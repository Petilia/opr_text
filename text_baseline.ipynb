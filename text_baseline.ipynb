{
 "cells": [
  {
   "cell_type": "code",
   "execution_count": 1,
   "metadata": {},
   "outputs": [],
   "source": [
    "%load_ext autoreload\n",
    "%autoreload 2"
   ]
  },
  {
   "cell_type": "code",
   "execution_count": 2,
   "metadata": {},
   "outputs": [],
   "source": [
    "\"\"\"Custom datasets implementations.\"\"\"\n",
    "from pathlib import Path\n",
    "from typing import Dict, Literal, Optional, Tuple, Union\n",
    "\n",
    "import cv2\n",
    "import numpy as np\n",
    "import torch\n",
    "from torch import Tensor\n",
    "\n",
    "from opr.datasets.augmentations import (\n",
    "    DefaultCloudSetTransform,\n",
    "    DefaultCloudTransform,\n",
    "    DefaultImageTransform,\n",
    ")\n",
    "from opr.datasets.base import BaseDataset"
   ]
  },
  {
   "cell_type": "code",
   "execution_count": 3,
   "metadata": {},
   "outputs": [],
   "source": [
    "from pathlib import Path\n",
    "\n",
    "import torch\n",
    "from hydra.utils import instantiate\n",
    "from omegaconf import OmegaConf\n",
    "from torch.optim import Adam\n",
    "from torch.optim.lr_scheduler import MultiStepLR\n",
    "\n",
    "from opr.datasets.dataloader_factory import make_dataloaders\n",
    "from opr.testing import test\n",
    "from opr.training import epoch_loop"
   ]
  },
  {
   "cell_type": "code",
   "execution_count": 4,
   "metadata": {},
   "outputs": [],
   "source": [
    "import os\n",
    "import torch\n",
    "import pandas as pd\n",
    "import numpy as np\n",
    "from sklearn.decomposition import PCA\n",
    "from sklearn.feature_extraction.text import TfidfVectorizer\n",
    "from joblib import dump, load\n",
    "\n",
    "# def train_tfidf_pca(corpus, n_components=300, base_savepath=\"./opr/datasets/\"):\n",
    "#     vectorizer = TfidfVectorizer()\n",
    "#     vectorizer.fit(corpus)\n",
    "#     vectorized_corpus = vectorizer.transform(corpus).toarray()\n",
    "\n",
    "#     pca =PCA(n_components=n_components)\n",
    "#     pca.fit(vectorized_corpus)\n",
    "    \n",
    "#     vectorizer_savepath = os.path.join(base_savepath, 'vectorizer.joblib')\n",
    "#     pca_savepath = os.path.join(base_savepath, 'pca.joblib')\n",
    "#     dump(vectorizer, vectorizer_savepath) \n",
    "#     dump(pca, pca_savepath) "
   ]
  },
  {
   "cell_type": "code",
   "execution_count": 5,
   "metadata": {},
   "outputs": [],
   "source": [
    "EPOCHS = 60\n",
    "\n",
    "IMAGE_LR = 0.0001\n",
    "CLOUD_LR = 0.001\n",
    "FUSION_LR = 0.001\n",
    "TEXT_LR = 0.001\n",
    "WEIGHT_DECAY = 0.0001\n",
    "\n",
    "SCHEDULER_GAMMA = 0.1\n",
    "SCHEDULER_STEPS = [40]\n",
    "\n",
    "DEVICE = \"cuda\"\n",
    "BATCH_EXPANSION_TH = 0.7\n",
    "CHECKPOINTS_DIR = Path(\"checkpoints\")"
   ]
  },
  {
   "cell_type": "code",
   "execution_count": 6,
   "metadata": {},
   "outputs": [
    {
     "name": "stdout",
     "output_type": "stream",
     "text": [
      "\n",
      "\n",
      "=====> Epoch 1:\n",
      "\n",
      "=> Training:\n",
      "\n"
     ]
    },
    {
     "name": "stderr",
     "output_type": "stream",
     "text": [
      "train: 100%|██████████| 90/90 [00:04<00:00, 18.28it/s]"
     ]
    },
    {
     "name": "stdout",
     "output_type": "stream",
     "text": [
      "\n",
      "train_rate_non_zero = 1.0\n",
      "\n",
      "=> Validating:\n",
      "\n"
     ]
    },
    {
     "name": "stderr",
     "output_type": "stream",
     "text": [
      "\n",
      "val: 100%|██████████| 33/33 [00:01<00:00, 19.35it/s]\n"
     ]
    },
    {
     "name": "stdout",
     "output_type": "stream",
     "text": [
      "\n",
      "val_rate_non_zero = 1.0\n",
      "\n",
      "=> Testing:\n",
      "\n"
     ]
    },
    {
     "name": "stderr",
     "output_type": "stream",
     "text": [
      "Calculating test set descriptors: 100%|██████████| 116/116 [00:05<00:00, 20.03it/s]\n",
      "Calculating metrics: 100%|██████████| 6/6 [00:00<00:00, 16.39it/s]"
     ]
    },
    {
     "name": "stdout",
     "output_type": "stream",
     "text": [
      "Mean Recall@N:\n",
      "[0.05094099 0.09019318 0.13327906 0.16684722 0.19585025 0.22594615\n",
      " 0.25382737 0.28087744 0.30501112 0.32913132 0.35457128 0.37919925\n",
      " 0.3962484  0.41731915 0.43601617 0.45309122 0.47393055 0.49047755\n",
      " 0.50752978 0.524278   0.54133636 0.55189289 0.56299604 0.57491262\n",
      " 0.58410572]\n",
      "Mean Recall@1% = 0.2259461504503919\n",
      "Mean top-1 distance = 0.06648661168926791\n",
      "Recall@1 improved!\n",
      "\n",
      "\n",
      "=====> Epoch 2:\n",
      "\n",
      "=> Training:\n",
      "\n"
     ]
    },
    {
     "name": "stderr",
     "output_type": "stream",
     "text": [
      "\n",
      "train: 100%|██████████| 90/90 [00:04<00:00, 19.11it/s]"
     ]
    },
    {
     "name": "stdout",
     "output_type": "stream",
     "text": [
      "\n",
      "train_rate_non_zero = 1.0\n",
      "\n",
      "=> Validating:\n",
      "\n"
     ]
    },
    {
     "name": "stderr",
     "output_type": "stream",
     "text": [
      "\n",
      "val: 100%|██████████| 33/33 [00:01<00:00, 20.86it/s]\n"
     ]
    },
    {
     "name": "stdout",
     "output_type": "stream",
     "text": [
      "\n",
      "val_rate_non_zero = 1.0\n",
      "\n",
      "=> Testing:\n",
      "\n"
     ]
    },
    {
     "name": "stderr",
     "output_type": "stream",
     "text": [
      "Calculating test set descriptors: 100%|██████████| 116/116 [00:06<00:00, 19.22it/s]\n",
      "Calculating metrics: 100%|██████████| 6/6 [00:00<00:00, 16.25it/s]"
     ]
    },
    {
     "name": "stdout",
     "output_type": "stream",
     "text": [
      "Mean Recall@N:\n",
      "[0.05200057 0.10104718 0.14089028 0.17826055 0.21212049 0.23998944\n",
      " 0.27218186 0.30200108 0.3225742  0.34667237 0.37401246 0.39407925\n",
      " 0.41385931 0.42930926 0.45200628 0.47012419 0.48636007 0.50341258\n",
      " 0.51913653 0.53241643 0.54835556 0.56541485 0.57705763 0.58978422\n",
      " 0.59923392]\n",
      "Mean Recall@1% = 0.23998943798662975\n",
      "Mean top-1 distance = 0.06286254612432002\n",
      "Recall@1 improved!\n",
      "\n",
      "\n",
      "=====> Epoch 3:\n",
      "\n",
      "=> Training:\n",
      "\n"
     ]
    },
    {
     "name": "stderr",
     "output_type": "stream",
     "text": [
      "\n",
      "train: 100%|██████████| 90/90 [00:05<00:00, 16.98it/s]"
     ]
    },
    {
     "name": "stdout",
     "output_type": "stream",
     "text": [
      "\n",
      "train_rate_non_zero = 1.0\n",
      "\n",
      "=> Validating:\n",
      "\n"
     ]
    },
    {
     "name": "stderr",
     "output_type": "stream",
     "text": [
      "\n",
      "val: 100%|██████████| 33/33 [00:01<00:00, 16.54it/s]\n"
     ]
    },
    {
     "name": "stdout",
     "output_type": "stream",
     "text": [
      "\n",
      "val_rate_non_zero = 1.0\n",
      "\n",
      "=> Testing:\n",
      "\n"
     ]
    },
    {
     "name": "stderr",
     "output_type": "stream",
     "text": [
      "Calculating test set descriptors: 100%|██████████| 116/116 [00:05<00:00, 20.00it/s]\n",
      "Calculating metrics: 100%|██████████| 6/6 [00:00<00:00, 16.59it/s]"
     ]
    },
    {
     "name": "stdout",
     "output_type": "stream",
     "text": [
      "Mean Recall@N:\n",
      "[0.05743064 0.10483612 0.14818963 0.18253809 0.2128891  0.24700043\n",
      " 0.27757946 0.3027835  0.32769708 0.35453111 0.37481666 0.39947129\n",
      " 0.42652841 0.44382336 0.46276581 0.48336963 0.5050346  0.52265526\n",
      " 0.53647111 0.55021515 0.56564165 0.58105889 0.59514236 0.60706136\n",
      " 0.61681455]\n",
      "Mean Recall@1% = 0.24700043077772302\n",
      "Mean top-1 distance = 0.06023684658372023\n",
      "Recall@1 improved!\n",
      "\n",
      "\n",
      "=====> Epoch 4:\n",
      "\n",
      "=> Training:\n",
      "\n"
     ]
    },
    {
     "name": "stderr",
     "output_type": "stream",
     "text": [
      "\n",
      "train: 91it [00:05, 16.50it/s]                        "
     ]
    },
    {
     "name": "stdout",
     "output_type": "stream",
     "text": [
      "\n",
      "train_rate_non_zero = 1.0\n",
      "\n",
      "=> Validating:\n",
      "\n"
     ]
    },
    {
     "name": "stderr",
     "output_type": "stream",
     "text": [
      "\n",
      "val: 100%|██████████| 33/33 [00:02<00:00, 15.19it/s]\n"
     ]
    },
    {
     "name": "stdout",
     "output_type": "stream",
     "text": [
      "\n",
      "val_rate_non_zero = 1.0\n",
      "\n",
      "=> Testing:\n",
      "\n"
     ]
    },
    {
     "name": "stderr",
     "output_type": "stream",
     "text": [
      "Calculating test set descriptors: 100%|██████████| 116/116 [00:05<00:00, 21.51it/s]\n",
      "Calculating metrics: 100%|██████████| 6/6 [00:00<00:00, 16.46it/s]"
     ]
    },
    {
     "name": "stdout",
     "output_type": "stream",
     "text": [
      "Mean Recall@N:\n",
      "[0.05903637 0.11160445 0.15685255 0.19500566 0.22777989 0.25921862\n",
      " 0.28761122 0.31795521 0.34586099 0.36917002 0.39216866 0.41355108\n",
      " 0.4403739  0.46091706 0.48016291 0.50212399 0.52515272 0.54109484\n",
      " 0.55464783 0.56814502 0.58169524 0.59332416 0.60872615 0.62092467\n",
      " 0.63312132]\n",
      "Mean Recall@1% = 0.25921861968270893\n",
      "Mean top-1 distance = 0.05794970251752549\n",
      "Recall@1 improved!\n",
      "\n",
      "\n",
      "=====> Epoch 5:\n",
      "\n",
      "=> Training:\n",
      "\n"
     ]
    },
    {
     "name": "stderr",
     "output_type": "stream",
     "text": [
      "\n",
      "train:  99%|█████████▉| 90/91 [00:04<00:00, 18.56it/s]"
     ]
    },
    {
     "name": "stdout",
     "output_type": "stream",
     "text": [
      "\n",
      "train_rate_non_zero = 1.0\n",
      "\n",
      "=> Validating:\n",
      "\n"
     ]
    },
    {
     "name": "stderr",
     "output_type": "stream",
     "text": [
      "\n",
      "val: 100%|██████████| 33/33 [00:02<00:00, 15.31it/s]\n"
     ]
    },
    {
     "name": "stdout",
     "output_type": "stream",
     "text": [
      "\n",
      "val_rate_non_zero = 1.0\n",
      "\n",
      "=> Testing:\n",
      "\n"
     ]
    },
    {
     "name": "stderr",
     "output_type": "stream",
     "text": [
      "Calculating test set descriptors: 100%|██████████| 116/116 [00:06<00:00, 16.88it/s]\n",
      "Calculating metrics: 100%|██████████| 6/6 [00:00<00:00, 16.51it/s]"
     ]
    },
    {
     "name": "stdout",
     "output_type": "stream",
     "text": [
      "Mean Recall@N:\n",
      "[0.06145273 0.1145777  0.15877662 0.20154653 0.23973598 0.27032326\n",
      " 0.30042224 0.33342119 0.36076475 0.39220136 0.41468538 0.433899\n",
      " 0.45473091 0.47666173 0.49585472 0.51888343 0.53564816 0.54863581\n",
      " 0.56843709 0.58442836 0.59957216 0.61202653 0.62528579 0.63531664\n",
      " 0.64752891]\n",
      "Mean Recall@1% = 0.27032326181777416\n",
      "Mean top-1 distance = 0.05591924537950419\n",
      "Recall@1 improved!\n",
      "\n",
      "\n",
      "=====> Epoch 6:\n",
      "\n",
      "=> Training:\n",
      "\n"
     ]
    },
    {
     "name": "stderr",
     "output_type": "stream",
     "text": [
      "\n",
      "train: 100%|██████████| 90/90 [00:04<00:00, 20.40it/s]"
     ]
    },
    {
     "name": "stdout",
     "output_type": "stream",
     "text": [
      "\n",
      "train_rate_non_zero = 1.0\n",
      "\n",
      "=> Validating:\n",
      "\n"
     ]
    },
    {
     "name": "stderr",
     "output_type": "stream",
     "text": [
      "\n",
      "val: 100%|██████████| 33/33 [00:01<00:00, 20.53it/s]\n"
     ]
    },
    {
     "name": "stdout",
     "output_type": "stream",
     "text": [
      "\n",
      "val_rate_non_zero = 1.0\n",
      "\n",
      "=> Testing:\n",
      "\n"
     ]
    },
    {
     "name": "stderr",
     "output_type": "stream",
     "text": [
      "Calculating test set descriptors: 100%|██████████| 116/116 [00:06<00:00, 16.74it/s]\n",
      "Calculating metrics: 100%|██████████| 6/6 [00:00<00:00, 16.45it/s]"
     ]
    },
    {
     "name": "stdout",
     "output_type": "stream",
     "text": [
      "Mean Recall@N:\n",
      "[0.06554576 0.12160741 0.17257275 0.21586031 0.25136576 0.28007191\n",
      " 0.30720244 0.33749712 0.367301   0.39568477 0.41788757 0.43925894\n",
      " 0.46334655 0.48959313 0.50965043 0.52918046 0.54810426 0.56354004\n",
      " 0.58165553 0.5949083  0.6092484  0.6249748  0.63388672 0.6460804\n",
      " 0.6587873 ]\n",
      "Mean Recall@1% = 0.28007191187283076\n",
      "Mean top-1 distance = 0.05391165207131584\n",
      "Recall@1 improved!\n",
      "\n",
      "\n",
      "=====> Epoch 7:\n",
      "\n",
      "=> Training:\n",
      "\n"
     ]
    },
    {
     "name": "stderr",
     "output_type": "stream",
     "text": [
      "\n",
      "train: 100%|██████████| 90/90 [00:05<00:00, 17.33it/s]"
     ]
    },
    {
     "name": "stdout",
     "output_type": "stream",
     "text": [
      "\n",
      "train_rate_non_zero = 1.0\n",
      "\n",
      "=> Validating:\n",
      "\n"
     ]
    },
    {
     "name": "stderr",
     "output_type": "stream",
     "text": [
      "\n",
      "val: 100%|██████████| 33/33 [00:02<00:00, 14.49it/s]\n"
     ]
    },
    {
     "name": "stdout",
     "output_type": "stream",
     "text": [
      "\n",
      "val_rate_non_zero = 1.0\n",
      "\n",
      "=> Testing:\n",
      "\n"
     ]
    },
    {
     "name": "stderr",
     "output_type": "stream",
     "text": [
      "Calculating test set descriptors: 100%|██████████| 116/116 [00:05<00:00, 21.35it/s]\n",
      "Calculating metrics: 100%|██████████| 6/6 [00:00<00:00, 16.35it/s]"
     ]
    },
    {
     "name": "stdout",
     "output_type": "stream",
     "text": [
      "Mean Recall@N:\n",
      "[0.06881103 0.12784719 0.17608589 0.21858909 0.26192526 0.29466971\n",
      " 0.32609998 0.35613377 0.38837614 0.41274031 0.43657251 0.45986322\n",
      " 0.48042983 0.49910173 0.52209512 0.54048307 0.55512798 0.57545398\n",
      " 0.58981194 0.60249805 0.62035393 0.6351787  0.64736815 0.65954816\n",
      " 0.67012256]\n",
      "Mean Recall@1% = 0.2946697077238454\n",
      "Mean top-1 distance = 0.052065961464366185\n",
      "Recall@1 improved!\n",
      "\n",
      "\n",
      "=====> Epoch 8:\n",
      "\n",
      "=> Training:\n",
      "\n"
     ]
    },
    {
     "name": "stderr",
     "output_type": "stream",
     "text": [
      "\n",
      "train: 91it [00:05, 15.50it/s]                        "
     ]
    },
    {
     "name": "stdout",
     "output_type": "stream",
     "text": [
      "\n",
      "train_rate_non_zero = 1.0\n",
      "\n",
      "=> Validating:\n",
      "\n"
     ]
    },
    {
     "name": "stderr",
     "output_type": "stream",
     "text": [
      "\n",
      "val: 100%|██████████| 33/33 [00:02<00:00, 14.16it/s]\n"
     ]
    },
    {
     "name": "stdout",
     "output_type": "stream",
     "text": [
      "\n",
      "val_rate_non_zero = 1.0\n",
      "\n",
      "=> Testing:\n",
      "\n"
     ]
    },
    {
     "name": "stderr",
     "output_type": "stream",
     "text": [
      "Calculating test set descriptors: 100%|██████████| 116/116 [00:06<00:00, 18.60it/s]\n",
      "Calculating metrics: 100%|██████████| 6/6 [00:00<00:00, 16.59it/s]"
     ]
    },
    {
     "name": "stdout",
     "output_type": "stream",
     "text": [
      "Mean Recall@N:\n",
      "[0.06826104 0.12679772 0.1772262  0.22403574 0.2619529  0.29904031\n",
      " 0.33857409 0.3651477  0.39409744 0.42145529 0.44851406 0.46744704\n",
      " 0.49285181 0.51288636 0.5361304  0.55207774 0.56563013 0.58027711\n",
      " 0.5956846  0.60946303 0.6264984  0.64114455 0.65526775 0.66720011\n",
      " 0.67776688]\n",
      "Mean Recall@1% = 0.2990403142744843\n",
      "Mean top-1 distance = 0.05051389531826963\n",
      "\n",
      "\n",
      "=====> Epoch 9:\n",
      "\n",
      "=> Training:\n",
      "\n"
     ]
    },
    {
     "name": "stderr",
     "output_type": "stream",
     "text": [
      "\n",
      "train:  99%|█████████▉| 90/91 [00:06<00:00, 14.74it/s]"
     ]
    },
    {
     "name": "stdout",
     "output_type": "stream",
     "text": [
      "\n",
      "train_rate_non_zero = 1.0\n",
      "\n",
      "=> Validating:\n",
      "\n"
     ]
    },
    {
     "name": "stderr",
     "output_type": "stream",
     "text": [
      "\n",
      "val: 100%|██████████| 33/33 [00:02<00:00, 13.89it/s]\n"
     ]
    },
    {
     "name": "stdout",
     "output_type": "stream",
     "text": [
      "\n",
      "val_rate_non_zero = 1.0\n",
      "\n",
      "=> Testing:\n",
      "\n"
     ]
    },
    {
     "name": "stderr",
     "output_type": "stream",
     "text": [
      "Calculating test set descriptors: 100%|██████████| 116/116 [00:05<00:00, 20.01it/s]\n",
      "Calculating metrics: 100%|██████████| 6/6 [00:00<00:00, 15.95it/s]"
     ]
    },
    {
     "name": "stdout",
     "output_type": "stream",
     "text": [
      "Mean Recall@N:\n",
      "[0.0720756  0.13842286 0.18854094 0.23375479 0.2790524  0.31398601\n",
      " 0.34294985 0.37083583 0.40009952 0.42583569 0.45258993 0.47694575\n",
      " 0.49912898 0.52024882 0.5383476  0.55514362 0.56813996 0.58678659\n",
      " 0.60280257 0.61986442 0.63662046 0.64964882 0.66372954 0.67561115\n",
      " 0.68563153]\n",
      "Mean Recall@1% = 0.31398600761583745\n",
      "Mean top-1 distance = 0.04919334007561449\n",
      "Recall@1 improved!\n",
      "\n",
      "\n",
      "=====> Epoch 10:\n",
      "\n",
      "=> Training:\n",
      "\n"
     ]
    },
    {
     "name": "stderr",
     "output_type": "stream",
     "text": [
      "\n",
      "train: 91it [00:06, 15.01it/s]                        "
     ]
    },
    {
     "name": "stdout",
     "output_type": "stream",
     "text": [
      "\n",
      "train_rate_non_zero = 1.0\n",
      "\n",
      "=> Validating:\n",
      "\n"
     ]
    },
    {
     "name": "stderr",
     "output_type": "stream",
     "text": [
      "\n",
      "val: 100%|██████████| 33/33 [00:02<00:00, 14.20it/s]\n"
     ]
    },
    {
     "name": "stdout",
     "output_type": "stream",
     "text": [
      "\n",
      "val_rate_non_zero = 1.0\n",
      "\n",
      "=> Testing:\n",
      "\n"
     ]
    },
    {
     "name": "stderr",
     "output_type": "stream",
     "text": [
      "Calculating test set descriptors: 100%|██████████| 116/116 [00:07<00:00, 14.61it/s]\n",
      "Calculating metrics: 100%|██████████| 6/6 [00:00<00:00, 16.49it/s]"
     ]
    },
    {
     "name": "stdout",
     "output_type": "stream",
     "text": [
      "Mean Recall@N:\n",
      "[0.07858025 0.14787077 0.19172793 0.23724739 0.28498582 0.32100065\n",
      " 0.35187604 0.38382706 0.41630042 0.44068011 0.46828029 0.48993437\n",
      " 0.51374454 0.52918793 0.54816658 0.56819627 0.58605661 0.60095523\n",
      " 0.612043   0.62773376 0.64402481 0.6572952  0.67134181 0.68213017\n",
      " 0.69323847]\n",
      "Mean Recall@1% = 0.3210006486871078\n",
      "Mean top-1 distance = 0.04777674448937391\n",
      "Recall@1 improved!\n",
      "\n",
      "\n",
      "=====> Epoch 11:\n",
      "\n",
      "=> Training:\n",
      "\n"
     ]
    },
    {
     "name": "stderr",
     "output_type": "stream",
     "text": [
      "\n",
      "train: 100%|██████████| 91/91 [00:05<00:00, 16.72it/s]"
     ]
    },
    {
     "name": "stdout",
     "output_type": "stream",
     "text": [
      "\n",
      "train_rate_non_zero = 1.0\n",
      "\n",
      "=> Validating:\n",
      "\n"
     ]
    },
    {
     "name": "stderr",
     "output_type": "stream",
     "text": [
      "\n",
      "val: 100%|██████████| 33/33 [00:02<00:00, 16.31it/s]\n"
     ]
    },
    {
     "name": "stdout",
     "output_type": "stream",
     "text": [
      "\n",
      "val_rate_non_zero = 1.0\n",
      "\n",
      "=> Testing:\n",
      "\n"
     ]
    },
    {
     "name": "stderr",
     "output_type": "stream",
     "text": [
      "Calculating test set descriptors: 100%|██████████| 116/116 [00:06<00:00, 16.86it/s]\n",
      "Calculating metrics: 100%|██████████| 6/6 [00:00<00:00, 16.58it/s]"
     ]
    },
    {
     "name": "stdout",
     "output_type": "stream",
     "text": [
      "Mean Recall@N:\n",
      "[0.08155667 0.14574365 0.20238371 0.25657222 0.30372662 0.34047722\n",
      " 0.37707539 0.40251995 0.42740923 0.45396382 0.47916362 0.50596969\n",
      " 0.52894634 0.55277372 0.57063298 0.58766831 0.60177023 0.61911215\n",
      " 0.63617157 0.64861692 0.66212781 0.67159256 0.68295347 0.69267422\n",
      " 0.70378941]\n",
      "Mean Recall@1% = 0.34047722152840915\n",
      "Mean top-1 distance = 0.04659027345464939\n",
      "Recall@1 improved!\n",
      "\n",
      "\n",
      "=====> Epoch 12:\n",
      "\n",
      "=> Training:\n",
      "\n"
     ]
    },
    {
     "name": "stderr",
     "output_type": "stream",
     "text": [
      "\n",
      "train: 100%|██████████| 91/91 [00:05<00:00, 17.14it/s]"
     ]
    },
    {
     "name": "stdout",
     "output_type": "stream",
     "text": [
      "\n",
      "train_rate_non_zero = 1.0\n",
      "\n",
      "=> Validating:\n",
      "\n"
     ]
    },
    {
     "name": "stderr",
     "output_type": "stream",
     "text": [
      "\n",
      "val: 100%|██████████| 33/33 [00:01<00:00, 17.21it/s]\n"
     ]
    },
    {
     "name": "stdout",
     "output_type": "stream",
     "text": [
      "\n",
      "val_rate_non_zero = 1.0\n",
      "\n",
      "=> Testing:\n",
      "\n"
     ]
    },
    {
     "name": "stderr",
     "output_type": "stream",
     "text": [
      "Calculating test set descriptors: 100%|██████████| 116/116 [00:05<00:00, 19.58it/s]\n",
      "Calculating metrics: 100%|██████████| 6/6 [00:00<00:00, 16.36it/s]"
     ]
    },
    {
     "name": "stdout",
     "output_type": "stream",
     "text": [
      "Mean Recall@N:\n",
      "[0.08450285 0.15761377 0.21430362 0.25930224 0.30403117 0.34649607\n",
      " 0.37516964 0.40817038 0.44171736 0.46585798 0.4921441  0.51270447\n",
      " 0.5337727  0.55166117 0.569553   0.58958553 0.60932551 0.62935971\n",
      " 0.6434679  0.65863873 0.67109961 0.68383758 0.69869013 0.7089674\n",
      " 0.71951774]\n",
      "Mean Recall@1% = 0.34649606688682155\n",
      "Mean top-1 distance = 0.045210336624773195\n",
      "Recall@1 improved!\n",
      "\n",
      "\n",
      "=====> Epoch 13:\n",
      "\n",
      "=> Training:\n",
      "\n"
     ]
    },
    {
     "name": "stderr",
     "output_type": "stream",
     "text": [
      "\n",
      "train: 100%|██████████| 91/91 [00:06<00:00, 14.71it/s]"
     ]
    },
    {
     "name": "stdout",
     "output_type": "stream",
     "text": [
      "\n",
      "train_rate_non_zero = 1.0\n",
      "\n",
      "=> Validating:\n",
      "\n"
     ]
    },
    {
     "name": "stderr",
     "output_type": "stream",
     "text": [
      "\n",
      "val: 100%|██████████| 33/33 [00:01<00:00, 17.92it/s]\n"
     ]
    },
    {
     "name": "stdout",
     "output_type": "stream",
     "text": [
      "\n",
      "val_rate_non_zero = 1.0\n",
      "\n",
      "=> Testing:\n",
      "\n"
     ]
    },
    {
     "name": "stderr",
     "output_type": "stream",
     "text": [
      "Calculating test set descriptors: 100%|██████████| 116/116 [00:07<00:00, 16.08it/s]\n",
      "Calculating metrics: 100%|██████████| 6/6 [00:00<00:00, 16.64it/s]"
     ]
    },
    {
     "name": "stdout",
     "output_type": "stream",
     "text": [
      "Mean Recall@N:\n",
      "[0.0899491  0.16273728 0.21915576 0.26144807 0.30345831 0.34486606\n",
      " 0.38141191 0.40986315 0.4423144  0.46911539 0.49483718 0.51568708\n",
      " 0.54008618 0.56123437 0.58204448 0.59966978 0.61669674 0.62941083\n",
      " 0.64511306 0.66272118 0.67654102 0.68980166 0.69977854 0.714623\n",
      " 0.72358135]\n",
      "Mean Recall@1% = 0.34486605976256635\n",
      "Mean top-1 distance = 0.04404149459412107\n",
      "Recall@1 improved!\n",
      "\n",
      "\n",
      "=====> Epoch 14:\n",
      "\n",
      "=> Training:\n",
      "\n"
     ]
    },
    {
     "name": "stderr",
     "output_type": "stream",
     "text": [
      "\n",
      "train:  99%|█████████▉| 90/91 [00:05<00:00, 15.19it/s]"
     ]
    },
    {
     "name": "stdout",
     "output_type": "stream",
     "text": [
      "\n",
      "train_rate_non_zero = 1.0\n",
      "\n",
      "=> Validating:\n",
      "\n"
     ]
    },
    {
     "name": "stderr",
     "output_type": "stream",
     "text": [
      "\n",
      "val: 34it [00:02, 13.35it/s]                        \n"
     ]
    },
    {
     "name": "stdout",
     "output_type": "stream",
     "text": [
      "WARNING: encoutered batch with 'num_triplets' == 0.\n",
      "\n",
      "val_rate_non_zero = 1.0\n",
      "\n",
      "=> Testing:\n",
      "\n"
     ]
    },
    {
     "name": "stderr",
     "output_type": "stream",
     "text": [
      "Calculating test set descriptors: 100%|██████████| 116/116 [00:07<00:00, 15.19it/s]\n",
      "Calculating metrics: 100%|██████████| 6/6 [00:00<00:00, 16.02it/s]"
     ]
    },
    {
     "name": "stdout",
     "output_type": "stream",
     "text": [
      "Mean Recall@N:\n",
      "[0.09613502 0.16950833 0.23319425 0.27794122 0.31615131 0.34842113\n",
      " 0.38258476 0.41558725 0.44538068 0.47024168 0.49815605 0.52057424\n",
      " 0.54276543 0.5595604  0.58580937 0.60664212 0.62611945 0.63883297\n",
      " 0.65425276 0.66803327 0.68402339 0.69537024 0.70674428 0.71836661\n",
      " 0.72813285]\n",
      "Mean Recall@1% = 0.34842113297456595\n",
      "Mean top-1 distance = 0.04333458846821606\n",
      "Recall@1 improved!\n",
      "\n",
      "\n",
      "=====> Epoch 15:\n",
      "\n",
      "=> Training:\n",
      "\n"
     ]
    },
    {
     "name": "stderr",
     "output_type": "stream",
     "text": [
      "\n",
      "train: 91it [00:06, 14.55it/s]                        "
     ]
    },
    {
     "name": "stdout",
     "output_type": "stream",
     "text": [
      "\n",
      "train_rate_non_zero = 1.0\n",
      "\n",
      "=> Validating:\n",
      "\n"
     ]
    },
    {
     "name": "stderr",
     "output_type": "stream",
     "text": [
      "\n",
      "val:  97%|█████████▋| 33/34 [00:02<00:00, 16.40it/s]\n"
     ]
    },
    {
     "name": "stdout",
     "output_type": "stream",
     "text": [
      "\n",
      "val_rate_non_zero = 1.0\n",
      "\n",
      "=> Testing:\n",
      "\n"
     ]
    },
    {
     "name": "stderr",
     "output_type": "stream",
     "text": [
      "Calculating test set descriptors: 100%|██████████| 116/116 [00:06<00:00, 17.12it/s]\n",
      "Calculating metrics: 100%|██████████| 6/6 [00:00<00:00, 16.34it/s]"
     ]
    },
    {
     "name": "stdout",
     "output_type": "stream",
     "text": [
      "Mean Recall@N:\n",
      "[0.10533728 0.1838379  0.24701117 0.28768932 0.330553   0.36600895\n",
      " 0.39851237 0.42777936 0.4583415  0.48643729 0.51351961 0.53544981\n",
      " 0.56007028 0.57792329 0.59419904 0.61071614 0.63023055 0.64482906\n",
      " 0.65754159 0.67050365 0.68511498 0.69840464 0.71302338 0.7281558\n",
      " 0.73814239]\n",
      "Mean Recall@1% = 0.3660089469074641\n",
      "Mean top-1 distance = 0.042464755992109714\n",
      "Recall@1 improved!\n",
      "\n",
      "\n",
      "=====> Epoch 16:\n",
      "\n",
      "=> Training:\n",
      "\n"
     ]
    },
    {
     "name": "stderr",
     "output_type": "stream",
     "text": [
      "\n",
      "train:  99%|█████████▉| 90/91 [00:05<00:00, 16.27it/s]"
     ]
    },
    {
     "name": "stdout",
     "output_type": "stream",
     "text": [
      "\n",
      "train_rate_non_zero = 1.0\n",
      "\n",
      "=> Validating:\n",
      "\n"
     ]
    },
    {
     "name": "stderr",
     "output_type": "stream",
     "text": [
      "\n",
      "val: 100%|██████████| 33/33 [00:02<00:00, 16.02it/s]\n"
     ]
    },
    {
     "name": "stdout",
     "output_type": "stream",
     "text": [
      "\n",
      "val_rate_non_zero = 1.0\n",
      "\n",
      "=> Testing:\n",
      "\n"
     ]
    },
    {
     "name": "stderr",
     "output_type": "stream",
     "text": [
      "Calculating test set descriptors: 100%|██████████| 116/116 [00:06<00:00, 16.69it/s]\n",
      "Calculating metrics: 100%|██████████| 6/6 [00:00<00:00, 16.09it/s]"
     ]
    },
    {
     "name": "stdout",
     "output_type": "stream",
     "text": [
      "Mean Recall@N:\n",
      "[0.10730642 0.18961282 0.24944761 0.29689661 0.33809167 0.37624088\n",
      " 0.41472636 0.44694078 0.4740069  0.5002701  0.52460577 0.54707393\n",
      " 0.5665792  0.58660787 0.60557103 0.62098677 0.63588298 0.6518728\n",
      " 0.66433791 0.68651412 0.70001998 0.71275216 0.72140826 0.73033352\n",
      " 0.74141734]\n",
      "Mean Recall@1% = 0.3762408779079276\n",
      "Mean top-1 distance = 0.0414868445292731\n",
      "Recall@1 improved!\n",
      "\n",
      "\n",
      "=====> Epoch 17:\n",
      "\n",
      "=> Training:\n",
      "\n"
     ]
    },
    {
     "name": "stderr",
     "output_type": "stream",
     "text": [
      "\n",
      "train: 91it [00:05, 17.05it/s]                        "
     ]
    },
    {
     "name": "stdout",
     "output_type": "stream",
     "text": [
      "\n",
      "train_rate_non_zero = 1.0\n",
      "\n",
      "=> Validating:\n",
      "\n"
     ]
    },
    {
     "name": "stderr",
     "output_type": "stream",
     "text": [
      "\n",
      "val: 100%|██████████| 33/33 [00:02<00:00, 15.54it/s]\n"
     ]
    },
    {
     "name": "stdout",
     "output_type": "stream",
     "text": [
      "\n",
      "val_rate_non_zero = 1.0\n",
      "\n",
      "=> Testing:\n",
      "\n"
     ]
    },
    {
     "name": "stderr",
     "output_type": "stream",
     "text": [
      "Calculating test set descriptors: 100%|██████████| 116/116 [00:06<00:00, 17.87it/s]\n",
      "Calculating metrics: 100%|██████████| 6/6 [00:00<00:00, 16.50it/s]"
     ]
    },
    {
     "name": "stdout",
     "output_type": "stream",
     "text": [
      "Mean Recall@N:\n",
      "[0.11325656 0.19231633 0.25268556 0.29741624 0.3478104  0.38325202\n",
      " 0.42256635 0.45154684 0.47729268 0.50895014 0.53227    0.55337834\n",
      " 0.57177814 0.59126055 0.61396219 0.63100547 0.64754706 0.65973465\n",
      " 0.67463246 0.68760692 0.70088424 0.71384818 0.72846406 0.73821621\n",
      " 0.74819531]\n",
      "Mean Recall@1% = 0.38325202203635506\n",
      "Mean top-1 distance = 0.040797677235046376\n",
      "Recall@1 improved!\n",
      "\n",
      "\n",
      "=====> Epoch 18:\n",
      "\n",
      "=> Training:\n",
      "\n"
     ]
    },
    {
     "name": "stderr",
     "output_type": "stream",
     "text": [
      "\n",
      "train: 100%|██████████| 91/91 [00:05<00:00, 16.23it/s]"
     ]
    },
    {
     "name": "stdout",
     "output_type": "stream",
     "text": [
      "\n",
      "train_rate_non_zero = 1.0\n",
      "\n",
      "=> Validating:\n",
      "\n"
     ]
    },
    {
     "name": "stderr",
     "output_type": "stream",
     "text": [
      "\n",
      "val: 100%|██████████| 33/33 [00:02<00:00, 13.36it/s]\n"
     ]
    },
    {
     "name": "stdout",
     "output_type": "stream",
     "text": [
      "\n",
      "val_rate_non_zero = 1.0\n",
      "\n",
      "=> Testing:\n",
      "\n"
     ]
    },
    {
     "name": "stderr",
     "output_type": "stream",
     "text": [
      "Calculating test set descriptors: 100%|██████████| 116/116 [00:06<00:00, 19.22it/s]\n",
      "Calculating metrics: 100%|██████████| 6/6 [00:00<00:00, 16.71it/s]"
     ]
    },
    {
     "name": "stdout",
     "output_type": "stream",
     "text": [
      "Mean Recall@N:\n",
      "[0.11568702 0.19989381 0.26243893 0.31285079 0.3572984  0.39659869\n",
      " 0.4309917  0.46239383 0.49136838 0.52355591 0.54383595 0.56440596\n",
      " 0.58899876 0.60714817 0.62153702 0.6383405  0.65458941 0.66918657\n",
      " 0.68354045 0.69974882 0.71355222 0.72326555 0.73622316 0.74595399\n",
      " 0.75570203]\n",
      "Mean Recall@1% = 0.39659869399522024\n",
      "Mean top-1 distance = 0.03985038291087997\n",
      "Recall@1 improved!\n",
      "\n",
      "\n",
      "=====> Epoch 19:\n",
      "\n",
      "=> Training:\n",
      "\n"
     ]
    },
    {
     "name": "stderr",
     "output_type": "stream",
     "text": [
      "\n",
      "train:  99%|█████████▉| 90/91 [00:06<00:00, 13.98it/s]"
     ]
    },
    {
     "name": "stdout",
     "output_type": "stream",
     "text": [
      "\n",
      "train_rate_non_zero = 1.0\n",
      "\n",
      "=> Validating:\n",
      "\n"
     ]
    },
    {
     "name": "stderr",
     "output_type": "stream",
     "text": [
      "\n",
      "val: 34it [00:02, 14.01it/s]                        \n"
     ]
    },
    {
     "name": "stdout",
     "output_type": "stream",
     "text": [
      "\n",
      "val_rate_non_zero = 1.0\n",
      "\n",
      "=> Testing:\n",
      "\n"
     ]
    },
    {
     "name": "stderr",
     "output_type": "stream",
     "text": [
      "Calculating test set descriptors: 100%|██████████| 116/116 [00:06<00:00, 17.55it/s]\n",
      "Calculating metrics: 100%|██████████| 6/6 [00:00<00:00, 16.49it/s]"
     ]
    },
    {
     "name": "stdout",
     "output_type": "stream",
     "text": [
      "Mean Recall@N:\n",
      "[0.12787483 0.20965236 0.27031045 0.31825556 0.3645865  0.40253318\n",
      " 0.44369018 0.47510488 0.50513128 0.53492817 0.55980917 0.58171538\n",
      " 0.60503362 0.62208224 0.63911926 0.6577741  0.67102782 0.68400716\n",
      " 0.69620877 0.7094581  0.7208167  0.73270393 0.74462031 0.75490049\n",
      " 0.76708888]\n",
      "Mean Recall@1% = 0.4025331838430872\n",
      "Mean top-1 distance = 0.03931724467252224\n",
      "Recall@1 improved!\n",
      "\n",
      "\n",
      "=====> Epoch 20:\n",
      "\n",
      "=> Training:\n",
      "\n"
     ]
    },
    {
     "name": "stderr",
     "output_type": "stream",
     "text": [
      "\n",
      "train: 100%|██████████| 90/90 [00:05<00:00, 16.27it/s]"
     ]
    },
    {
     "name": "stdout",
     "output_type": "stream",
     "text": [
      "\n",
      "train_rate_non_zero = 1.0\n",
      "\n",
      "=> Validating:\n",
      "\n"
     ]
    },
    {
     "name": "stderr",
     "output_type": "stream",
     "text": [
      "\n",
      "val:  97%|█████████▋| 33/34 [00:02<00:00, 14.52it/s]\n"
     ]
    },
    {
     "name": "stdout",
     "output_type": "stream",
     "text": [
      "\n",
      "val_rate_non_zero = 1.0\n",
      "\n",
      "=> Testing:\n",
      "\n"
     ]
    },
    {
     "name": "stderr",
     "output_type": "stream",
     "text": [
      "Calculating test set descriptors: 100%|██████████| 116/116 [00:07<00:00, 15.67it/s]\n",
      "Calculating metrics: 100%|██████████| 6/6 [00:00<00:00, 16.37it/s]"
     ]
    },
    {
     "name": "stdout",
     "output_type": "stream",
     "text": [
      "Mean Recall@N:\n",
      "[0.13463577 0.21589519 0.27656691 0.331031   0.37360786 0.41337627\n",
      " 0.44699808 0.47949326 0.51331363 0.53984576 0.56148086 0.58452556\n",
      " 0.60398821 0.61940069 0.63726733 0.65512803 0.66999497 0.68860713\n",
      " 0.7043264  0.71652918 0.72599448 0.73762251 0.74979703 0.76114592\n",
      " 0.77247834]\n",
      "Mean Recall@1% = 0.4133762724885597\n",
      "Mean top-1 distance = 0.038607848386261974\n",
      "Recall@1 improved!\n",
      "\n",
      "\n",
      "=====> Epoch 21:\n",
      "\n",
      "=> Training:\n",
      "\n"
     ]
    },
    {
     "name": "stderr",
     "output_type": "stream",
     "text": [
      "\n",
      "train: 91it [00:06, 13.83it/s]                        "
     ]
    },
    {
     "name": "stdout",
     "output_type": "stream",
     "text": [
      "\n",
      "train_rate_non_zero = 1.0\n",
      "\n",
      "=> Validating:\n",
      "\n"
     ]
    },
    {
     "name": "stderr",
     "output_type": "stream",
     "text": [
      "\n",
      "val: 100%|██████████| 33/33 [00:02<00:00, 14.10it/s]\n"
     ]
    },
    {
     "name": "stdout",
     "output_type": "stream",
     "text": [
      "\n",
      "val_rate_non_zero = 1.0\n",
      "\n",
      "=> Testing:\n",
      "\n"
     ]
    },
    {
     "name": "stderr",
     "output_type": "stream",
     "text": [
      "Calculating test set descriptors: 100%|██████████| 116/116 [00:06<00:00, 16.66it/s]\n",
      "Calculating metrics: 100%|██████████| 6/6 [00:00<00:00, 16.28it/s]"
     ]
    },
    {
     "name": "stdout",
     "output_type": "stream",
     "text": [
      "Mean Recall@N:\n",
      "[0.13354266 0.21748748 0.28192286 0.33913283 0.38597789 0.42065623\n",
      " 0.45666159 0.49001724 0.51705541 0.53978492 0.56276015 0.59116788\n",
      " 0.61285761 0.63370287 0.6496628  0.66972091 0.68734993 0.7035671\n",
      " 0.71817413 0.72979509 0.74087181 0.75331211 0.76088208 0.7698152\n",
      " 0.78441633]\n",
      "Mean Recall@1% = 0.4206562345842664\n",
      "Mean top-1 distance = 0.037909620581834856\n",
      "\n",
      "\n",
      "=====> Epoch 22:\n",
      "\n",
      "=> Training:\n",
      "\n"
     ]
    },
    {
     "name": "stderr",
     "output_type": "stream",
     "text": [
      "\n",
      "train: 100%|██████████| 91/91 [00:06<00:00, 14.37it/s]"
     ]
    },
    {
     "name": "stdout",
     "output_type": "stream",
     "text": [
      "\n",
      "train_rate_non_zero = 1.0\n",
      "\n",
      "=> Validating:\n",
      "\n"
     ]
    },
    {
     "name": "stderr",
     "output_type": "stream",
     "text": [
      "\n",
      "val: 100%|██████████| 33/33 [00:02<00:00, 13.72it/s]\n"
     ]
    },
    {
     "name": "stdout",
     "output_type": "stream",
     "text": [
      "\n",
      "val_rate_non_zero = 1.0\n",
      "\n",
      "=> Testing:\n",
      "\n"
     ]
    },
    {
     "name": "stderr",
     "output_type": "stream",
     "text": [
      "Calculating test set descriptors: 100%|██████████| 116/116 [00:06<00:00, 18.82it/s]\n",
      "Calculating metrics: 100%|██████████| 6/6 [00:00<00:00, 16.56it/s]"
     ]
    },
    {
     "name": "stdout",
     "output_type": "stream",
     "text": [
      "Mean Recall@N:\n",
      "[0.14213103 0.22342709 0.29469705 0.34642822 0.3948624  0.43063186\n",
      " 0.46564836 0.49595278 0.52437327 0.5541104  0.57932881 0.59607668\n",
      " 0.61935451 0.63776414 0.65561497 0.67350493 0.69108402 0.70516895\n",
      " 0.71869855 0.73411271 0.7441052  0.75626615 0.76817203 0.77684535\n",
      " 0.78714445]\n",
      "Mean Recall@1% = 0.4306318567027978\n",
      "Mean top-1 distance = 0.037358302024671476\n",
      "Recall@1 improved!\n",
      "\n",
      "\n",
      "=====> Epoch 23:\n",
      "\n",
      "=> Training:\n",
      "\n"
     ]
    },
    {
     "name": "stderr",
     "output_type": "stream",
     "text": [
      "\n",
      "train: 100%|██████████| 91/91 [00:05<00:00, 16.43it/s]"
     ]
    },
    {
     "name": "stdout",
     "output_type": "stream",
     "text": [
      "\n",
      "train_rate_non_zero = 1.0\n",
      "\n",
      "=> Validating:\n",
      "\n"
     ]
    },
    {
     "name": "stderr",
     "output_type": "stream",
     "text": [
      "\n",
      "val: 34it [00:02, 16.31it/s]                        \n"
     ]
    },
    {
     "name": "stdout",
     "output_type": "stream",
     "text": [
      "\n",
      "val_rate_non_zero = 1.0\n",
      "\n",
      "=> Testing:\n",
      "\n"
     ]
    },
    {
     "name": "stderr",
     "output_type": "stream",
     "text": [
      "Calculating test set descriptors: 100%|██████████| 116/116 [00:06<00:00, 18.25it/s]\n",
      "Calculating metrics: 100%|██████████| 6/6 [00:00<00:00, 16.58it/s]"
     ]
    },
    {
     "name": "stdout",
     "output_type": "stream",
     "text": [
      "Mean Recall@N:\n",
      "[0.14516318 0.23125928 0.2911784  0.34776818 0.39218807 0.43798453\n",
      " 0.47588594 0.51161054 0.53622018 0.56384738 0.5914881  0.61124241\n",
      " 0.63017897 0.65123896 0.66772561 0.68584293 0.70400743 0.71563248\n",
      " 0.72969753 0.74131283 0.75568073 0.76731804 0.77434104 0.78516765\n",
      " 0.79412698]\n",
      "Mean Recall@1% = 0.4379845325070369\n",
      "Mean top-1 distance = 0.03658375132359662\n",
      "Recall@1 improved!\n",
      "\n",
      "\n",
      "=====> Epoch 24:\n",
      "\n",
      "=> Training:\n",
      "\n"
     ]
    },
    {
     "name": "stderr",
     "output_type": "stream",
     "text": [
      "\n",
      "train: 100%|██████████| 91/91 [00:05<00:00, 15.37it/s]"
     ]
    },
    {
     "name": "stdout",
     "output_type": "stream",
     "text": [
      "\n",
      "train_rate_non_zero = 1.0\n",
      "\n",
      "=> Validating:\n",
      "\n"
     ]
    },
    {
     "name": "stderr",
     "output_type": "stream",
     "text": [
      "\n",
      "val: 100%|██████████| 34/34 [00:02<00:00, 14.91it/s]\n"
     ]
    },
    {
     "name": "stdout",
     "output_type": "stream",
     "text": [
      "\n",
      "val_rate_non_zero = 1.0\n",
      "\n",
      "=> Testing:\n",
      "\n"
     ]
    },
    {
     "name": "stderr",
     "output_type": "stream",
     "text": [
      "Calculating test set descriptors: 100%|██████████| 116/116 [00:06<00:00, 16.61it/s]\n",
      "Calculating metrics: 100%|██████████| 6/6 [00:00<00:00, 16.34it/s]"
     ]
    },
    {
     "name": "stdout",
     "output_type": "stream",
     "text": [
      "Mean Recall@N:\n",
      "[0.1476222  0.2351274  0.30764547 0.35989803 0.40976405 0.44740981\n",
      " 0.48614607 0.51866821 0.54870312 0.57277737 0.6006486  0.62119133\n",
      " 0.64417119 0.66204626 0.67828351 0.69208367 0.70669215 0.71969146\n",
      " 0.73159945 0.74485856 0.75539658 0.76350101 0.77298917 0.78217791\n",
      " 0.79247696]\n",
      "Mean Recall@1% = 0.44740980523893076\n",
      "Mean top-1 distance = 0.03598903793812455\n",
      "Recall@1 improved!\n",
      "\n",
      "\n",
      "=====> Epoch 25:\n",
      "\n",
      "=> Training:\n",
      "\n"
     ]
    },
    {
     "name": "stderr",
     "output_type": "stream",
     "text": [
      "\n",
      "train: 100%|██████████| 91/91 [00:06<00:00, 14.04it/s]"
     ]
    },
    {
     "name": "stdout",
     "output_type": "stream",
     "text": [
      "\n",
      "train_rate_non_zero = 1.0\n",
      "\n",
      "=> Validating:\n",
      "\n"
     ]
    },
    {
     "name": "stderr",
     "output_type": "stream",
     "text": [
      "\n",
      "val: 100%|██████████| 34/34 [00:02<00:00, 14.35it/s]\n"
     ]
    },
    {
     "name": "stdout",
     "output_type": "stream",
     "text": [
      "\n",
      "val_rate_non_zero = 1.0\n",
      "\n",
      "=> Testing:\n",
      "\n"
     ]
    },
    {
     "name": "stderr",
     "output_type": "stream",
     "text": [
      "Calculating test set descriptors: 100%|██████████| 116/116 [00:06<00:00, 18.99it/s]\n",
      "Calculating metrics: 100%|██████████| 6/6 [00:00<00:00, 16.78it/s]"
     ]
    },
    {
     "name": "stdout",
     "output_type": "stream",
     "text": [
      "Mean Recall@N:\n",
      "[0.1541088  0.2432143  0.31096716 0.36732469 0.41389285 0.45375757\n",
      " 0.48623156 0.52387233 0.54927483 0.57470071 0.59769535 0.61986226\n",
      " 0.64207359 0.65827917 0.67532113 0.69129567 0.70480344 0.71724069\n",
      " 0.73240288 0.7429346  0.75515934 0.76570021 0.77762372 0.78791234\n",
      " 0.79982157]\n",
      "Mean Recall@1% = 0.4537575686718814\n",
      "Mean top-1 distance = 0.03561788468856772\n",
      "Recall@1 improved!\n",
      "\n",
      "\n",
      "=====> Epoch 26:\n",
      "\n",
      "=> Training:\n",
      "\n"
     ]
    },
    {
     "name": "stderr",
     "output_type": "stream",
     "text": [
      "\n",
      "train: 100%|██████████| 91/91 [00:06<00:00, 14.47it/s]"
     ]
    },
    {
     "name": "stdout",
     "output_type": "stream",
     "text": [
      "\n",
      "train_rate_non_zero = 1.0\n",
      "\n",
      "=> Validating:\n",
      "\n"
     ]
    },
    {
     "name": "stderr",
     "output_type": "stream",
     "text": [
      "\n",
      "val:  97%|█████████▋| 33/34 [00:02<00:00, 12.59it/s]\n"
     ]
    },
    {
     "name": "stdout",
     "output_type": "stream",
     "text": [
      "\n",
      "val_rate_non_zero = 1.0\n",
      "\n",
      "=> Testing:\n",
      "\n"
     ]
    },
    {
     "name": "stderr",
     "output_type": "stream",
     "text": [
      "Calculating test set descriptors: 100%|██████████| 116/116 [00:06<00:00, 18.31it/s]\n",
      "Calculating metrics: 100%|██████████| 6/6 [00:00<00:00, 16.63it/s]"
     ]
    },
    {
     "name": "stdout",
     "output_type": "stream",
     "text": [
      "Mean Recall@N:\n",
      "[0.16255071 0.25354467 0.32229119 0.37808495 0.42416356 0.46341642\n",
      " 0.50297146 0.53219824 0.56415416 0.58445344 0.60826381 0.63075969\n",
      " 0.65023255 0.67241938 0.68564981 0.6989335  0.7113838  0.72381846\n",
      " 0.7351797  0.74871212 0.76305208 0.77199185 0.78631169 0.79548983\n",
      " 0.80391457]\n",
      "Mean Recall@1% = 0.4634164174654618\n",
      "Mean top-1 distance = 0.03520200318690197\n",
      "Recall@1 improved!\n",
      "\n",
      "\n",
      "=====> Epoch 27:\n",
      "\n",
      "=> Training:\n",
      "\n"
     ]
    },
    {
     "name": "stderr",
     "output_type": "stream",
     "text": [
      "\n",
      "train:  98%|█████████▊| 89/91 [00:06<00:00, 13.60it/s]"
     ]
    },
    {
     "name": "stdout",
     "output_type": "stream",
     "text": [
      "\n",
      "train_rate_non_zero = 1.0\n",
      "\n",
      "=> Validating:\n",
      "\n"
     ]
    },
    {
     "name": "stderr",
     "output_type": "stream",
     "text": [
      "\n",
      "val: 100%|██████████| 33/33 [00:02<00:00, 13.64it/s]\n"
     ]
    },
    {
     "name": "stdout",
     "output_type": "stream",
     "text": [
      "\n",
      "val_rate_non_zero = 1.0\n",
      "\n",
      "=> Testing:\n",
      "\n"
     ]
    },
    {
     "name": "stderr",
     "output_type": "stream",
     "text": [
      "Calculating test set descriptors: 100%|██████████| 116/116 [00:06<00:00, 17.60it/s]\n",
      "Calculating metrics: 100%|██████████| 6/6 [00:00<00:00, 16.51it/s]"
     ]
    },
    {
     "name": "stdout",
     "output_type": "stream",
     "text": [
      "Mean Recall@N:\n",
      "[0.15707497 0.25841585 0.33042645 0.38569416 0.43066506 0.47531087\n",
      " 0.51028227 0.54031287 0.57038028 0.59823076 0.62094786 0.64018265\n",
      " 0.66268893 0.6805415  0.69678003 0.71462352 0.72571021 0.73814662\n",
      " 0.74762202 0.75790089 0.76815275 0.77707609 0.78955024 0.79819288\n",
      " 0.80471256]\n",
      "Mean Recall@1% = 0.4753108690273719\n",
      "Mean top-1 distance = 0.034660910756645874\n",
      "\n",
      "\n",
      "=====> Epoch 28:\n",
      "\n",
      "=> Training:\n",
      "\n"
     ]
    },
    {
     "name": "stderr",
     "output_type": "stream",
     "text": [
      "\n",
      "train: 91it [00:05, 15.74it/s]                        "
     ]
    },
    {
     "name": "stdout",
     "output_type": "stream",
     "text": [
      "\n",
      "train_rate_non_zero = 1.0\n",
      "\n",
      "=> Validating:\n",
      "\n"
     ]
    },
    {
     "name": "stderr",
     "output_type": "stream",
     "text": [
      "\n",
      "val: 100%|██████████| 33/33 [00:02<00:00, 14.52it/s]\n"
     ]
    },
    {
     "name": "stdout",
     "output_type": "stream",
     "text": [
      "\n",
      "val_rate_non_zero = 1.0\n",
      "\n",
      "=> Testing:\n",
      "\n"
     ]
    },
    {
     "name": "stderr",
     "output_type": "stream",
     "text": [
      "Calculating test set descriptors: 100%|██████████| 116/116 [00:06<00:00, 17.13it/s]\n",
      "Calculating metrics: 100%|██████████| 6/6 [00:00<00:00, 16.64it/s]"
     ]
    },
    {
     "name": "stdout",
     "output_type": "stream",
     "text": [
      "Mean Recall@N:\n",
      "[0.16116018 0.25732036 0.33096107 0.38431463 0.43172278 0.47288218\n",
      " 0.51134579 0.54113089 0.57007415 0.59905929 0.62097307 0.64288402\n",
      " 0.66344365 0.67753249 0.69295733 0.7067767  0.72082879 0.73299933\n",
      " 0.74355419 0.75520976 0.76792555 0.77929958 0.78878901 0.79556703\n",
      " 0.8047653 ]\n",
      "Mean Recall@1% = 0.47288218040442187\n",
      "Mean top-1 distance = 0.034229105577511125\n",
      "\n",
      "\n",
      "=====> Epoch 29:\n",
      "\n",
      "=> Training:\n",
      "\n"
     ]
    },
    {
     "name": "stderr",
     "output_type": "stream",
     "text": [
      "\n",
      "train:  99%|█████████▉| 90/91 [00:06<00:00, 14.91it/s]"
     ]
    },
    {
     "name": "stdout",
     "output_type": "stream",
     "text": [
      "\n",
      "train_rate_non_zero = 1.0\n",
      "\n",
      "=> Validating:\n",
      "\n"
     ]
    },
    {
     "name": "stderr",
     "output_type": "stream",
     "text": [
      "\n",
      "val: 100%|██████████| 33/33 [00:02<00:00, 14.31it/s]\n"
     ]
    },
    {
     "name": "stdout",
     "output_type": "stream",
     "text": [
      "\n",
      "val_rate_non_zero = 1.0\n",
      "\n",
      "=> Testing:\n",
      "\n"
     ]
    },
    {
     "name": "stderr",
     "output_type": "stream",
     "text": [
      "Calculating test set descriptors: 100%|██████████| 116/116 [00:06<00:00, 17.05it/s]\n",
      "Calculating metrics: 100%|██████████| 6/6 [00:00<00:00, 16.35it/s]"
     ]
    },
    {
     "name": "stdout",
     "output_type": "stream",
     "text": [
      "Mean Recall@N:\n",
      "[0.16278975 0.26895439 0.33962393 0.39434149 0.43796495 0.47672672\n",
      " 0.50836718 0.54683054 0.57552501 0.59769456 0.61962766 0.64100457\n",
      " 0.6594324  0.67969619 0.69646399 0.71106734 0.72325968 0.73732227\n",
      " 0.74788224 0.7595186  0.76870186 0.77925132 0.78736154 0.79871387\n",
      " 0.80602544]\n",
      "Mean Recall@1% = 0.47672672359580553\n",
      "Mean top-1 distance = 0.033924357837508405\n",
      "Recall@1 improved!\n",
      "\n",
      "\n",
      "=====> Epoch 30:\n",
      "\n",
      "=> Training:\n",
      "\n"
     ]
    },
    {
     "name": "stderr",
     "output_type": "stream",
     "text": [
      "\n",
      "train: 100%|██████████| 90/90 [00:05<00:00, 16.40it/s]"
     ]
    },
    {
     "name": "stdout",
     "output_type": "stream",
     "text": [
      "\n",
      "train_rate_non_zero = 1.0\n",
      "\n",
      "=> Validating:\n",
      "\n"
     ]
    },
    {
     "name": "stderr",
     "output_type": "stream",
     "text": [
      "\n",
      "val: 100%|██████████| 33/33 [00:02<00:00, 13.83it/s]\n"
     ]
    },
    {
     "name": "stdout",
     "output_type": "stream",
     "text": [
      "\n",
      "val_rate_non_zero = 1.0\n",
      "\n",
      "=> Testing:\n",
      "\n"
     ]
    },
    {
     "name": "stderr",
     "output_type": "stream",
     "text": [
      "Calculating test set descriptors: 100%|██████████| 116/116 [00:06<00:00, 16.81it/s]\n",
      "Calculating metrics: 100%|██████████| 6/6 [00:00<00:00, 16.64it/s]"
     ]
    },
    {
     "name": "stdout",
     "output_type": "stream",
     "text": [
      "Mean Recall@N:\n",
      "[0.175003   0.27819596 0.34937062 0.39922653 0.44652409 0.48309651\n",
      " 0.51829455 0.54888586 0.57706765 0.60116194 0.62201318 0.64691122\n",
      " 0.66991329 0.68778711 0.70078698 0.71350747 0.7292096  0.74032008\n",
      " 0.75171213 0.76362172 0.77686905 0.78823337 0.79769987 0.80497924\n",
      " 0.81498434]\n",
      "Mean Recall@1% = 0.48309650824623224\n",
      "Mean top-1 distance = 0.03339990651496174\n",
      "Recall@1 improved!\n",
      "\n",
      "\n",
      "=====> Epoch 31:\n",
      "\n",
      "=> Training:\n",
      "\n"
     ]
    },
    {
     "name": "stderr",
     "output_type": "stream",
     "text": [
      "\n",
      "train: 91it [00:06, 15.04it/s]                        "
     ]
    },
    {
     "name": "stdout",
     "output_type": "stream",
     "text": [
      "\n",
      "train_rate_non_zero = 1.0\n",
      "\n",
      "=> Validating:\n",
      "\n"
     ]
    },
    {
     "name": "stderr",
     "output_type": "stream",
     "text": [
      "\n",
      "val: 100%|██████████| 33/33 [00:02<00:00, 13.60it/s]\n"
     ]
    },
    {
     "name": "stdout",
     "output_type": "stream",
     "text": [
      "\n",
      "val_rate_non_zero = 1.0\n",
      "\n",
      "=> Testing:\n",
      "\n"
     ]
    },
    {
     "name": "stderr",
     "output_type": "stream",
     "text": [
      "Calculating test set descriptors: 100%|██████████| 116/116 [00:07<00:00, 16.44it/s]\n",
      "Calculating metrics: 100%|██████████| 6/6 [00:00<00:00, 16.48it/s]"
     ]
    },
    {
     "name": "stdout",
     "output_type": "stream",
     "text": [
      "Mean Recall@N:\n",
      "[0.17471252 0.27708994 0.34557736 0.40216239 0.44928287 0.48880119\n",
      " 0.51940074 0.54565948 0.57787896 0.60525655 0.62987927 0.65093893\n",
      " 0.66825989 0.68747562 0.70397616 0.71886771 0.73240956 0.74864587\n",
      " 0.75787895 0.7679036  0.78088398 0.7919906  0.80361946 0.81365272\n",
      " 0.82014917]\n",
      "Mean Recall@1% = 0.488801192999047\n",
      "Mean top-1 distance = 0.032970100852121154\n",
      "\n",
      "\n",
      "=====> Epoch 32:\n",
      "\n",
      "=> Training:\n",
      "\n"
     ]
    },
    {
     "name": "stderr",
     "output_type": "stream",
     "text": [
      "\n",
      "train:  99%|█████████▉| 90/91 [00:04<00:00, 18.63it/s]"
     ]
    },
    {
     "name": "stdout",
     "output_type": "stream",
     "text": [
      "\n",
      "train_rate_non_zero = 1.0\n",
      "\n",
      "=> Validating:\n",
      "\n"
     ]
    },
    {
     "name": "stderr",
     "output_type": "stream",
     "text": [
      "\n",
      "val: 100%|██████████| 33/33 [00:02<00:00, 13.42it/s]\n"
     ]
    },
    {
     "name": "stdout",
     "output_type": "stream",
     "text": [
      "\n",
      "val_rate_non_zero = 1.0\n",
      "\n",
      "=> Testing:\n",
      "\n"
     ]
    },
    {
     "name": "stderr",
     "output_type": "stream",
     "text": [
      "Calculating test set descriptors: 100%|██████████| 116/116 [00:06<00:00, 18.48it/s]\n",
      "Calculating metrics: 100%|██████████| 6/6 [00:00<00:00, 16.52it/s]"
     ]
    },
    {
     "name": "stdout",
     "output_type": "stream",
     "text": [
      "Mean Recall@N:\n",
      "[0.17465051 0.28489901 0.35556623 0.40916255 0.4535135  0.48982434\n",
      " 0.52778276 0.56141865 0.58741346 0.60989347 0.63177963 0.65370915\n",
      " 0.67698183 0.6943196  0.7113682  0.72842268 0.74166722 0.75575989\n",
      " 0.76901387 0.77766588 0.78848825 0.7958021  0.80364224 0.81256815\n",
      " 0.820692  ]\n",
      "Mean Recall@1% = 0.48982433618993254\n",
      "Mean top-1 distance = 0.03257315718234\n",
      "\n",
      "\n",
      "=====> Epoch 33:\n",
      "\n",
      "=> Training:\n",
      "\n"
     ]
    },
    {
     "name": "stderr",
     "output_type": "stream",
     "text": [
      "\n",
      "train: 91it [00:06, 14.48it/s]                        "
     ]
    },
    {
     "name": "stdout",
     "output_type": "stream",
     "text": [
      "\n",
      "train_rate_non_zero = 1.0\n",
      "\n",
      "=> Validating:\n",
      "\n"
     ]
    },
    {
     "name": "stderr",
     "output_type": "stream",
     "text": [
      "\n",
      "val: 34it [00:02, 13.85it/s]                        \n"
     ]
    },
    {
     "name": "stdout",
     "output_type": "stream",
     "text": [
      "\n",
      "val_rate_non_zero = 1.0\n",
      "\n",
      "=> Testing:\n",
      "\n"
     ]
    },
    {
     "name": "stderr",
     "output_type": "stream",
     "text": [
      "Calculating test set descriptors: 100%|██████████| 116/116 [00:07<00:00, 15.72it/s]\n",
      "Calculating metrics: 100%|██████████| 6/6 [00:00<00:00, 16.37it/s]"
     ]
    },
    {
     "name": "stdout",
     "output_type": "stream",
     "text": [
      "Mean Recall@N:\n",
      "[0.18421354 0.28276569 0.35661545 0.4077249  0.4603247  0.50254815\n",
      " 0.53778789 0.56595758 0.59249128 0.61683459 0.64445392 0.66637482\n",
      " 0.6836723  0.69992291 0.7169789  0.73267008 0.74674742 0.75970727\n",
      " 0.77134641 0.7843215  0.79407673 0.80326283 0.81109568 0.81978351\n",
      " 0.82787587]\n",
      "Mean Recall@1% = 0.5025481524658292\n",
      "Mean top-1 distance = 0.03213852490060216\n",
      "Recall@1 improved!\n",
      "\n",
      "\n",
      "=====> Epoch 34:\n",
      "\n",
      "=> Training:\n",
      "\n"
     ]
    },
    {
     "name": "stderr",
     "output_type": "stream",
     "text": [
      "\n",
      "train:  99%|█████████▉| 90/91 [00:04<00:00, 18.18it/s]"
     ]
    },
    {
     "name": "stdout",
     "output_type": "stream",
     "text": [
      "\n",
      "train_rate_non_zero = 1.0\n",
      "\n",
      "=> Validating:\n",
      "\n"
     ]
    },
    {
     "name": "stderr",
     "output_type": "stream",
     "text": [
      "\n",
      "val:  97%|█████████▋| 33/34 [00:02<00:00, 16.46it/s]\n"
     ]
    },
    {
     "name": "stdout",
     "output_type": "stream",
     "text": [
      "\n",
      "val_rate_non_zero = 1.0\n",
      "\n",
      "=> Testing:\n",
      "\n"
     ]
    },
    {
     "name": "stderr",
     "output_type": "stream",
     "text": [
      "Calculating test set descriptors: 100%|██████████| 116/116 [00:07<00:00, 14.69it/s]\n",
      "Calculating metrics: 100%|██████████| 6/6 [00:00<00:00, 16.39it/s]"
     ]
    },
    {
     "name": "stdout",
     "output_type": "stream",
     "text": [
      "Mean Recall@N:\n",
      "[0.19528177 0.29194682 0.36154871 0.41809187 0.46303421 0.50127347\n",
      " 0.54157072 0.5749077  0.60277784 0.63496849 0.65556457 0.67693497\n",
      " 0.69614692 0.71241801 0.72948572 0.74163394 0.75351875 0.76353449\n",
      " 0.773835   0.78493007 0.79709636 0.80523156 0.8130582  0.82171282\n",
      " 0.82847599]\n",
      "Mean Recall@1% = 0.5012734691170768\n",
      "Mean top-1 distance = 0.0318344227096175\n",
      "Recall@1 improved!\n",
      "\n",
      "\n",
      "=====> Epoch 35:\n",
      "\n",
      "=> Training:\n",
      "\n"
     ]
    },
    {
     "name": "stderr",
     "output_type": "stream",
     "text": [
      "\n",
      "train: 91it [00:06, 14.81it/s]                        "
     ]
    },
    {
     "name": "stdout",
     "output_type": "stream",
     "text": [
      "\n",
      "train_rate_non_zero = 1.0\n",
      "\n",
      "=> Validating:\n",
      "\n"
     ]
    },
    {
     "name": "stderr",
     "output_type": "stream",
     "text": [
      "\n",
      "val: 100%|██████████| 33/33 [00:02<00:00, 13.77it/s]\n"
     ]
    },
    {
     "name": "stdout",
     "output_type": "stream",
     "text": [
      "\n",
      "val_rate_non_zero = 1.0\n",
      "\n",
      "=> Testing:\n",
      "\n"
     ]
    },
    {
     "name": "stderr",
     "output_type": "stream",
     "text": [
      "Calculating test set descriptors: 100%|██████████| 116/116 [00:07<00:00, 15.55it/s]\n",
      "Calculating metrics: 100%|██████████| 6/6 [00:00<00:00, 16.52it/s]"
     ]
    },
    {
     "name": "stdout",
     "output_type": "stream",
     "text": [
      "Mean Recall@N:\n",
      "[0.18984302 0.2946838  0.36641237 0.42246267 0.47333552 0.52044783\n",
      " 0.55786296 0.58521935 0.61279076 0.64037938 0.66416858 0.68583794\n",
      " 0.7050737  0.72130085 0.73456441 0.74810636 0.75947955 0.77166399\n",
      " 0.78681348 0.79709554 0.80387483 0.81413386 0.82332733 0.8319921\n",
      " 0.83850534]\n",
      "Mean Recall@1% = 0.5204478309890951\n",
      "Mean top-1 distance = 0.03153417456416371\n",
      "\n",
      "\n",
      "=====> Epoch 36:\n",
      "\n",
      "=> Training:\n",
      "\n"
     ]
    },
    {
     "name": "stderr",
     "output_type": "stream",
     "text": [
      "\n",
      "train: 100%|██████████| 91/91 [00:06<00:00, 13.72it/s]"
     ]
    },
    {
     "name": "stdout",
     "output_type": "stream",
     "text": [
      "\n",
      "train_rate_non_zero = 1.0\n",
      "\n",
      "=> Validating:\n",
      "\n"
     ]
    },
    {
     "name": "stderr",
     "output_type": "stream",
     "text": [
      "\n",
      "val: 100%|██████████| 33/33 [00:02<00:00, 14.46it/s]\n"
     ]
    },
    {
     "name": "stdout",
     "output_type": "stream",
     "text": [
      "\n",
      "val_rate_non_zero = 1.0\n",
      "\n",
      "=> Testing:\n",
      "\n"
     ]
    },
    {
     "name": "stderr",
     "output_type": "stream",
     "text": [
      "Calculating test set descriptors: 100%|██████████| 116/116 [00:08<00:00, 13.76it/s]\n",
      "Calculating metrics: 100%|██████████| 6/6 [00:00<00:00, 16.61it/s]"
     ]
    },
    {
     "name": "stdout",
     "output_type": "stream",
     "text": [
      "Mean Recall@N:\n",
      "[0.19876231 0.29955982 0.37530954 0.43268511 0.48171032 0.52829083\n",
      " 0.56404524 0.59271383 0.61654303 0.6484781  0.667714   0.68885551\n",
      " 0.70889098 0.7229641  0.73596629 0.75597196 0.77030268 0.78112809\n",
      " 0.79303175 0.80059078 0.81005645 0.81788966 0.82870571 0.83600587\n",
      " 0.84383027]\n",
      "Mean Recall@1% = 0.5282908333563322\n",
      "Mean top-1 distance = 0.03128931259579642\n",
      "Recall@1 improved!\n",
      "\n",
      "\n",
      "=====> Epoch 37:\n",
      "\n",
      "=> Training:\n",
      "\n"
     ]
    },
    {
     "name": "stderr",
     "output_type": "stream",
     "text": [
      "\n",
      "train:  99%|█████████▉| 90/91 [00:06<00:00, 13.78it/s]"
     ]
    },
    {
     "name": "stdout",
     "output_type": "stream",
     "text": [
      "\n",
      "train_rate_non_zero = 1.0\n",
      "\n",
      "=> Validating:\n",
      "\n"
     ]
    },
    {
     "name": "stderr",
     "output_type": "stream",
     "text": [
      "\n",
      "val: 100%|██████████| 33/33 [00:02<00:00, 13.93it/s]\n"
     ]
    },
    {
     "name": "stdout",
     "output_type": "stream",
     "text": [
      "\n",
      "val_rate_non_zero = 1.0\n",
      "\n",
      "=> Testing:\n",
      "\n"
     ]
    },
    {
     "name": "stderr",
     "output_type": "stream",
     "text": [
      "Calculating test set descriptors: 100%|██████████| 116/116 [00:07<00:00, 15.51it/s]\n",
      "Calculating metrics: 100%|██████████| 6/6 [00:00<00:00, 16.41it/s]"
     ]
    },
    {
     "name": "stdout",
     "output_type": "stream",
     "text": [
      "Mean Recall@N:\n",
      "[0.19742098 0.30412001 0.38178003 0.4359598  0.48523286 0.52552705\n",
      " 0.5648306  0.59384861 0.6214769  0.64853678 0.67126534 0.6896425\n",
      " 0.70721927 0.72534936 0.74130663 0.75646191 0.7667448  0.77812858\n",
      " 0.7881228  0.79571862 0.80653175 0.81705936 0.82548584 0.8341196\n",
      " 0.84140463]\n",
      "Mean Recall@1% = 0.5255270452791173\n",
      "Mean top-1 distance = 0.030860343386421463\n",
      "\n",
      "\n",
      "=====> Epoch 38:\n",
      "\n",
      "=> Training:\n",
      "\n"
     ]
    },
    {
     "name": "stderr",
     "output_type": "stream",
     "text": [
      "\n",
      "train: 100%|██████████| 90/90 [00:06<00:00, 13.21it/s]"
     ]
    },
    {
     "name": "stdout",
     "output_type": "stream",
     "text": [
      "\n",
      "train_rate_non_zero = 1.0\n",
      "\n",
      "=> Validating:\n",
      "\n"
     ]
    },
    {
     "name": "stderr",
     "output_type": "stream",
     "text": [
      "\n",
      "val: 100%|██████████| 33/33 [00:02<00:00, 13.94it/s]\n"
     ]
    },
    {
     "name": "stdout",
     "output_type": "stream",
     "text": [
      "\n",
      "val_rate_non_zero = 1.0\n",
      "\n",
      "=> Testing:\n",
      "\n"
     ]
    },
    {
     "name": "stderr",
     "output_type": "stream",
     "text": [
      "Calculating test set descriptors: 100%|██████████| 116/116 [00:07<00:00, 15.10it/s]\n",
      "Calculating metrics: 100%|██████████| 6/6 [00:00<00:00, 16.64it/s]"
     ]
    },
    {
     "name": "stdout",
     "output_type": "stream",
     "text": [
      "Mean Recall@N:\n",
      "[0.20578656 0.31683031 0.38507443 0.44119232 0.49015999 0.53123422\n",
      " 0.56751641 0.59755049 0.62465256 0.64987082 0.67345038 0.68914795\n",
      " 0.70806712 0.72618884 0.7397151  0.75240739 0.76510759 0.77837034\n",
      " 0.78892085 0.79949703 0.81248257 0.8192416  0.82654146 0.83545573\n",
      " 0.84303038]\n",
      "Mean Recall@1% = 0.5312342220780487\n",
      "Mean top-1 distance = 0.030639468333987827\n",
      "Recall@1 improved!\n",
      "\n",
      "\n",
      "=====> Epoch 39:\n",
      "\n",
      "=> Training:\n",
      "\n"
     ]
    },
    {
     "name": "stderr",
     "output_type": "stream",
     "text": [
      "\n",
      "train: 100%|██████████| 90/90 [00:04<00:00, 18.01it/s]"
     ]
    },
    {
     "name": "stdout",
     "output_type": "stream",
     "text": [
      "\n",
      "train_rate_non_zero = 1.0\n",
      "\n",
      "=> Validating:\n",
      "\n"
     ]
    },
    {
     "name": "stderr",
     "output_type": "stream",
     "text": [
      "\n",
      "val: 100%|██████████| 33/33 [00:02<00:00, 14.96it/s]\n"
     ]
    },
    {
     "name": "stdout",
     "output_type": "stream",
     "text": [
      "\n",
      "val_rate_non_zero = 1.0\n",
      "\n",
      "=> Testing:\n",
      "\n"
     ]
    },
    {
     "name": "stderr",
     "output_type": "stream",
     "text": [
      "Calculating test set descriptors: 100%|██████████| 116/116 [00:07<00:00, 15.00it/s]\n",
      "Calculating metrics: 100%|██████████| 6/6 [00:00<00:00, 15.73it/s]"
     ]
    },
    {
     "name": "stdout",
     "output_type": "stream",
     "text": [
      "Mean Recall@N:\n",
      "[0.21546643 0.31931148 0.39376506 0.45040437 0.49969938 0.54296865\n",
      " 0.57838343 0.61117    0.63958526 0.66094164 0.68015652 0.6993753\n",
      " 0.71644003 0.73456608 0.74832335 0.76349075 0.77838007 0.78893211\n",
      " 0.79811099 0.81003752 0.81678752 0.826795   0.83383042 0.84087208\n",
      " 0.84708234]\n",
      "Mean Recall@1% = 0.5429686476840206\n",
      "Mean top-1 distance = 0.030421719028403685\n",
      "Recall@1 improved!\n",
      "\n",
      "\n",
      "=====> Epoch 40:\n",
      "\n",
      "=> Training:\n",
      "\n"
     ]
    },
    {
     "name": "stderr",
     "output_type": "stream",
     "text": [
      "\n",
      "train: 100%|██████████| 90/90 [00:06<00:00, 14.54it/s]"
     ]
    },
    {
     "name": "stdout",
     "output_type": "stream",
     "text": [
      "\n",
      "train_rate_non_zero = 1.0\n",
      "\n",
      "=> Validating:\n",
      "\n"
     ]
    },
    {
     "name": "stderr",
     "output_type": "stream",
     "text": [
      "\n",
      "val: 100%|██████████| 33/33 [00:02<00:00, 13.41it/s]\n"
     ]
    },
    {
     "name": "stdout",
     "output_type": "stream",
     "text": [
      "\n",
      "val_rate_non_zero = 1.0\n",
      "\n",
      "=> Testing:\n",
      "\n"
     ]
    },
    {
     "name": "stderr",
     "output_type": "stream",
     "text": [
      "Calculating test set descriptors: 100%|██████████| 116/116 [00:06<00:00, 17.36it/s]\n",
      "Calculating metrics: 100%|██████████| 6/6 [00:00<00:00, 16.78it/s]"
     ]
    },
    {
     "name": "stdout",
     "output_type": "stream",
     "text": [
      "Mean Recall@N:\n",
      "[0.22387993 0.32982751 0.398329   0.45600067 0.50880193 0.54565435\n",
      " 0.58115669 0.61713543 0.64530253 0.66640226 0.68806672 0.70780804\n",
      " 0.7234769  0.74217153 0.75681542 0.76839316 0.77840264 0.79054608\n",
      " 0.79947185 0.80946621 0.82217522 0.82948309 0.83898176 0.8465588\n",
      " 0.85250084]\n",
      "Mean Recall@1% = 0.5456543497471449\n",
      "Mean top-1 distance = 0.030128672136346447\n",
      "Recall@1 improved!\n",
      "\n",
      "\n",
      "=====> Epoch 41:\n",
      "\n",
      "=> Training:\n",
      "\n"
     ]
    },
    {
     "name": "stderr",
     "output_type": "stream",
     "text": [
      "\n",
      "train: 100%|██████████| 90/90 [00:05<00:00, 17.04it/s]"
     ]
    },
    {
     "name": "stdout",
     "output_type": "stream",
     "text": [
      "\n",
      "train_rate_non_zero = 1.0\n",
      "\n",
      "=> Validating:\n",
      "\n"
     ]
    },
    {
     "name": "stderr",
     "output_type": "stream",
     "text": [
      "\n",
      "val: 100%|██████████| 33/33 [00:02<00:00, 15.25it/s]\n"
     ]
    },
    {
     "name": "stdout",
     "output_type": "stream",
     "text": [
      "\n",
      "val_rate_non_zero = 1.0\n",
      "\n",
      "=> Testing:\n",
      "\n"
     ]
    },
    {
     "name": "stderr",
     "output_type": "stream",
     "text": [
      "Calculating test set descriptors: 100%|██████████| 116/116 [00:06<00:00, 17.82it/s]\n",
      "Calculating metrics: 100%|██████████| 6/6 [00:00<00:00, 16.51it/s]"
     ]
    },
    {
     "name": "stdout",
     "output_type": "stream",
     "text": [
      "Mean Recall@N:\n",
      "[0.22686888 0.33201689 0.4004929  0.45845474 0.50855601 0.54999835\n",
      " 0.58440713 0.62067313 0.64666169 0.66859211 0.6907696  0.70918316\n",
      " 0.72698931 0.74052887 0.75544927 0.76896483 0.78271826 0.79189\n",
      " 0.80187886 0.81079597 0.82218657 0.83138108 0.83845554 0.84466737\n",
      " 0.85278259]\n",
      "Mean Recall@1% = 0.5499983495072422\n",
      "Mean top-1 distance = 0.030091541398098155\n",
      "Recall@1 improved!\n",
      "\n",
      "\n",
      "=====> Epoch 42:\n",
      "\n",
      "=> Training:\n",
      "\n"
     ]
    },
    {
     "name": "stderr",
     "output_type": "stream",
     "text": [
      "\n",
      "train: 100%|██████████| 90/90 [00:05<00:00, 15.74it/s]"
     ]
    },
    {
     "name": "stdout",
     "output_type": "stream",
     "text": [
      "\n",
      "train_rate_non_zero = 1.0\n",
      "\n",
      "=> Validating:\n",
      "\n"
     ]
    },
    {
     "name": "stderr",
     "output_type": "stream",
     "text": [
      "\n",
      "val: 100%|██████████| 33/33 [00:02<00:00, 14.51it/s]\n"
     ]
    },
    {
     "name": "stdout",
     "output_type": "stream",
     "text": [
      "\n",
      "val_rate_non_zero = 1.0\n",
      "\n",
      "=> Testing:\n",
      "\n"
     ]
    },
    {
     "name": "stderr",
     "output_type": "stream",
     "text": [
      "Calculating test set descriptors: 100%|██████████| 116/116 [00:06<00:00, 16.96it/s]\n",
      "Calculating metrics: 100%|██████████| 6/6 [00:00<00:00, 16.85it/s]"
     ]
    },
    {
     "name": "stdout",
     "output_type": "stream",
     "text": [
      "Mean Recall@N:\n",
      "[0.22770466 0.33255184 0.40132229 0.46170656 0.51101324 0.5499647\n",
      " 0.58711489 0.62227235 0.64666477 0.67022708 0.69235998 0.70916786\n",
      " 0.72647233 0.7429924  0.75789202 0.77139183 0.78380669 0.79405486\n",
      " 0.80271363 0.81245005 0.82085139 0.83112086 0.83708711 0.84518358\n",
      " 0.8519433 ]\n",
      "Mean Recall@1% = 0.549964703428177\n",
      "Mean top-1 distance = 0.03004241415337279\n",
      "Recall@1 improved!\n",
      "\n",
      "\n",
      "=====> Epoch 43:\n",
      "\n",
      "=> Training:\n",
      "\n"
     ]
    },
    {
     "name": "stderr",
     "output_type": "stream",
     "text": [
      "\n",
      "train: 100%|██████████| 90/90 [00:06<00:00, 14.59it/s]"
     ]
    },
    {
     "name": "stdout",
     "output_type": "stream",
     "text": [
      "\n",
      "train_rate_non_zero = 1.0\n",
      "\n",
      "=> Validating:\n",
      "\n"
     ]
    },
    {
     "name": "stderr",
     "output_type": "stream",
     "text": [
      "\n",
      "val: 100%|██████████| 33/33 [00:02<00:00, 15.41it/s]\n"
     ]
    },
    {
     "name": "stdout",
     "output_type": "stream",
     "text": [
      "\n",
      "val_rate_non_zero = 1.0\n",
      "\n",
      "=> Testing:\n",
      "\n"
     ]
    },
    {
     "name": "stderr",
     "output_type": "stream",
     "text": [
      "Calculating test set descriptors: 100%|██████████| 116/116 [00:07<00:00, 15.61it/s]\n",
      "Calculating metrics: 100%|██████████| 6/6 [00:00<00:00, 16.74it/s]"
     ]
    },
    {
     "name": "stdout",
     "output_type": "stream",
     "text": [
      "Mean Recall@N:\n",
      "[0.22769067 0.3336487  0.40647963 0.46039143 0.5150534  0.55215295\n",
      " 0.58872078 0.62229595 0.64881065 0.67075176 0.69074523 0.710781\n",
      " 0.72893659 0.7443388  0.75760426 0.7722011  0.78380792 0.79567533\n",
      " 0.80379034 0.81353129 0.82301188 0.83058558 0.83708678 0.84303341\n",
      " 0.85087177]\n",
      "Mean Recall@1% = 0.5521529458023261\n",
      "Mean top-1 distance = 0.029992953743732047\n",
      "\n",
      "\n",
      "=====> Epoch 44:\n",
      "\n",
      "=> Training:\n",
      "\n"
     ]
    },
    {
     "name": "stderr",
     "output_type": "stream",
     "text": [
      "\n",
      "train: 100%|██████████| 90/90 [00:06<00:00, 14.00it/s]"
     ]
    },
    {
     "name": "stdout",
     "output_type": "stream",
     "text": [
      "\n",
      "train_rate_non_zero = 1.0\n",
      "\n",
      "=> Validating:\n",
      "\n"
     ]
    },
    {
     "name": "stderr",
     "output_type": "stream",
     "text": [
      "\n",
      "val: 100%|██████████| 33/33 [00:02<00:00, 14.29it/s]\n"
     ]
    },
    {
     "name": "stdout",
     "output_type": "stream",
     "text": [
      "\n",
      "val_rate_non_zero = 1.0\n",
      "\n",
      "=> Testing:\n",
      "\n"
     ]
    },
    {
     "name": "stderr",
     "output_type": "stream",
     "text": [
      "Calculating test set descriptors: 100%|██████████| 116/116 [00:07<00:00, 15.20it/s]\n",
      "Calculating metrics: 100%|██████████| 6/6 [00:00<00:00, 16.59it/s]"
     ]
    },
    {
     "name": "stdout",
     "output_type": "stream",
     "text": [
      "Mean Recall@N:\n",
      "[0.23068523 0.33447183 0.40893695 0.46554901 0.51150479 0.55105819\n",
      " 0.59029706 0.62447284 0.64857336 0.67212506 0.6926703  0.71158846\n",
      " 0.72783737 0.7419038  0.75759317 0.77272966 0.78731611 0.79974067\n",
      " 0.80596773 0.81381968 0.82191561 0.82975133 0.83785516 0.84489779\n",
      " 0.8508568 ]\n",
      "Mean Recall@1% = 0.5510581875833948\n",
      "Mean top-1 distance = 0.029989978041330856\n",
      "Recall@1 improved!\n",
      "\n",
      "\n",
      "=====> Epoch 45:\n",
      "\n",
      "=> Training:\n",
      "\n"
     ]
    },
    {
     "name": "stderr",
     "output_type": "stream",
     "text": [
      "\n",
      "train: 100%|██████████| 90/90 [00:05<00:00, 17.57it/s]"
     ]
    },
    {
     "name": "stdout",
     "output_type": "stream",
     "text": [
      "\n",
      "train_rate_non_zero = 1.0\n",
      "\n",
      "=> Validating:\n",
      "\n"
     ]
    },
    {
     "name": "stderr",
     "output_type": "stream",
     "text": [
      "\n",
      "val: 100%|██████████| 33/33 [00:02<00:00, 12.66it/s]\n"
     ]
    },
    {
     "name": "stdout",
     "output_type": "stream",
     "text": [
      "\n",
      "val_rate_non_zero = 1.0\n",
      "\n",
      "=> Testing:\n",
      "\n"
     ]
    },
    {
     "name": "stderr",
     "output_type": "stream",
     "text": [
      "Calculating test set descriptors: 100%|██████████| 116/116 [00:07<00:00, 15.96it/s]\n",
      "Calculating metrics: 100%|██████████| 6/6 [00:00<00:00, 16.63it/s]"
     ]
    },
    {
     "name": "stdout",
     "output_type": "stream",
     "text": [
      "Mean Recall@N:\n",
      "[0.23068389 0.338536   0.41056805 0.46583336 0.51263344 0.55459379\n",
      " 0.59114121 0.62529758 0.64884314 0.67023088 0.6932022  0.71269182\n",
      " 0.72783797 0.74240571 0.75757449 0.77381327 0.78625132 0.79922352\n",
      " 0.80814929 0.81382925 0.82381545 0.83246609 0.83920719 0.84571476\n",
      " 0.85167126]\n",
      "Mean Recall@1% = 0.5545937934062046\n",
      "Mean top-1 distance = 0.029919254846652883\n",
      "\n",
      "\n",
      "=====> Epoch 46:\n",
      "\n",
      "=> Training:\n",
      "\n"
     ]
    },
    {
     "name": "stderr",
     "output_type": "stream",
     "text": [
      "\n",
      "train: 100%|██████████| 90/90 [00:06<00:00, 14.23it/s]"
     ]
    },
    {
     "name": "stdout",
     "output_type": "stream",
     "text": [
      "\n",
      "train_rate_non_zero = 1.0\n",
      "\n",
      "=> Validating:\n",
      "\n"
     ]
    },
    {
     "name": "stderr",
     "output_type": "stream",
     "text": [
      "\n",
      "val: 100%|██████████| 33/33 [00:02<00:00, 15.79it/s]\n"
     ]
    },
    {
     "name": "stdout",
     "output_type": "stream",
     "text": [
      "\n",
      "val_rate_non_zero = 1.0\n",
      "\n",
      "=> Testing:\n",
      "\n"
     ]
    },
    {
     "name": "stderr",
     "output_type": "stream",
     "text": [
      "Calculating test set descriptors: 100%|██████████| 116/116 [00:05<00:00, 20.26it/s]\n",
      "Calculating metrics: 100%|██████████| 6/6 [00:00<00:00, 16.56it/s]"
     ]
    },
    {
     "name": "stdout",
     "output_type": "stream",
     "text": [
      "Mean Recall@N:\n",
      "[0.22798613 0.33747911 0.4108611  0.46665894 0.51424724 0.55594487\n",
      " 0.59199396 0.62665217 0.64964552 0.67102663 0.69429    0.71486456\n",
      " 0.72758365 0.74405494 0.76217208 0.77542199 0.78733164 0.79733216\n",
      " 0.8051512  0.81594893 0.82488415 0.83216563 0.83893884 0.84626755\n",
      " 0.85410517]\n",
      "Mean Recall@1% = 0.5559448732124529\n",
      "Mean top-1 distance = 0.02985260659978697\n",
      "\n",
      "\n",
      "=====> Epoch 47:\n",
      "\n",
      "=> Training:\n",
      "\n"
     ]
    },
    {
     "name": "stderr",
     "output_type": "stream",
     "text": [
      "\n",
      "train: 100%|██████████| 90/90 [00:05<00:00, 15.56it/s]"
     ]
    },
    {
     "name": "stdout",
     "output_type": "stream",
     "text": [
      "\n",
      "train_rate_non_zero = 1.0\n",
      "\n",
      "=> Validating:\n",
      "\n"
     ]
    },
    {
     "name": "stderr",
     "output_type": "stream",
     "text": [
      "\n",
      "val: 100%|██████████| 33/33 [00:02<00:00, 13.22it/s]\n"
     ]
    },
    {
     "name": "stdout",
     "output_type": "stream",
     "text": [
      "\n",
      "val_rate_non_zero = 1.0\n",
      "\n",
      "=> Testing:\n",
      "\n"
     ]
    },
    {
     "name": "stderr",
     "output_type": "stream",
     "text": [
      "Calculating test set descriptors: 100%|██████████| 116/116 [00:07<00:00, 15.30it/s]\n",
      "Calculating metrics: 100%|██████████| 6/6 [00:00<00:00, 16.62it/s]"
     ]
    },
    {
     "name": "stdout",
     "output_type": "stream",
     "text": [
      "Mean Recall@N:\n",
      "[0.22930464 0.33991423 0.41303594 0.46826672 0.51398071 0.55649341\n",
      " 0.59679775 0.62609033 0.64800265 0.67209987 0.69513096 0.71298629\n",
      " 0.72972371 0.7464895  0.76245141 0.77598521 0.78815508 0.79651389\n",
      " 0.80703868 0.81650732 0.82489249 0.83354357 0.84192998 0.84925605\n",
      " 0.85547922]\n",
      "Mean Recall@1% = 0.5564934145035574\n",
      "Mean top-1 distance = 0.029828267427233667\n",
      "\n",
      "\n",
      "=====> Epoch 48:\n",
      "\n",
      "=> Training:\n",
      "\n"
     ]
    },
    {
     "name": "stderr",
     "output_type": "stream",
     "text": [
      "\n",
      "train: 100%|██████████| 90/90 [00:06<00:00, 14.71it/s]"
     ]
    },
    {
     "name": "stdout",
     "output_type": "stream",
     "text": [
      "\n",
      "train_rate_non_zero = 1.0\n",
      "\n",
      "=> Validating:\n",
      "\n"
     ]
    },
    {
     "name": "stderr",
     "output_type": "stream",
     "text": [
      "\n",
      "val: 34it [00:02, 14.01it/s]                        \n"
     ]
    },
    {
     "name": "stdout",
     "output_type": "stream",
     "text": [
      "\n",
      "val_rate_non_zero = 1.0\n",
      "\n",
      "=> Testing:\n",
      "\n"
     ]
    },
    {
     "name": "stderr",
     "output_type": "stream",
     "text": [
      "Calculating test set descriptors: 100%|██████████| 116/116 [00:06<00:00, 16.94it/s]\n",
      "Calculating metrics: 100%|██████████| 6/6 [00:00<00:00, 16.50it/s]"
     ]
    },
    {
     "name": "stdout",
     "output_type": "stream",
     "text": [
      "Mean Recall@N:\n",
      "[0.22957376 0.34042971 0.41195358 0.46988994 0.51749676 0.55782227\n",
      " 0.59601748 0.62447334 0.64857959 0.67264044 0.69513843 0.71323261\n",
      " 0.73025137 0.74648182 0.76299446 0.77735148 0.7886979  0.79705551\n",
      " 0.80626336 0.81622789 0.82597406 0.83544836 0.84249644 0.85033446\n",
      " 0.85737072]\n",
      "Mean Recall@1% = 0.5578222714819302\n",
      "Mean top-1 distance = 0.029798729939163427\n",
      "\n",
      "\n",
      "=====> Epoch 49:\n",
      "\n",
      "=> Training:\n",
      "\n"
     ]
    },
    {
     "name": "stderr",
     "output_type": "stream",
     "text": [
      "\n",
      "train: 100%|██████████| 90/90 [00:05<00:00, 16.82it/s]"
     ]
    },
    {
     "name": "stdout",
     "output_type": "stream",
     "text": [
      "\n",
      "train_rate_non_zero = 1.0\n",
      "\n",
      "=> Validating:\n",
      "\n"
     ]
    },
    {
     "name": "stderr",
     "output_type": "stream",
     "text": [
      "\n",
      "val:  97%|█████████▋| 33/34 [00:02<00:00, 14.89it/s]\n"
     ]
    },
    {
     "name": "stdout",
     "output_type": "stream",
     "text": [
      "\n",
      "val_rate_non_zero = 1.0\n",
      "\n",
      "=> Testing:\n",
      "\n"
     ]
    },
    {
     "name": "stderr",
     "output_type": "stream",
     "text": [
      "Calculating test set descriptors: 100%|██████████| 116/116 [00:06<00:00, 19.09it/s]\n",
      "Calculating metrics: 100%|██████████| 6/6 [00:00<00:00, 16.54it/s]"
     ]
    },
    {
     "name": "stdout",
     "output_type": "stream",
     "text": [
      "Mean Recall@N:\n",
      "[0.23232131 0.33933335 0.41547831 0.47099352 0.51806128 0.56111722\n",
      " 0.59984255 0.62555959 0.65017502 0.67210973 0.69702411 0.71348907\n",
      " 0.73025707 0.74594596 0.76275105 0.77625827 0.78572048 0.79627132\n",
      " 0.80465206 0.81650243 0.82490662 0.83274595 0.84246323 0.84949825\n",
      " 0.85708337]\n",
      "Mean Recall@1% = 0.561117216497999\n",
      "Mean top-1 distance = 0.029785053167517395\n",
      "Recall@1 improved!\n",
      "\n",
      "\n",
      "=====> Epoch 50:\n",
      "\n",
      "=> Training:\n",
      "\n"
     ]
    },
    {
     "name": "stderr",
     "output_type": "stream",
     "text": [
      "\n",
      "train: 91it [00:05, 15.47it/s]                        "
     ]
    },
    {
     "name": "stdout",
     "output_type": "stream",
     "text": [
      "\n",
      "train_rate_non_zero = 1.0\n",
      "\n",
      "=> Validating:\n",
      "\n"
     ]
    },
    {
     "name": "stderr",
     "output_type": "stream",
     "text": [
      "\n",
      "val: 100%|██████████| 33/33 [00:02<00:00, 14.51it/s]\n"
     ]
    },
    {
     "name": "stdout",
     "output_type": "stream",
     "text": [
      "\n",
      "val_rate_non_zero = 1.0\n",
      "\n",
      "=> Testing:\n",
      "\n"
     ]
    },
    {
     "name": "stderr",
     "output_type": "stream",
     "text": [
      "Calculating test set descriptors: 100%|██████████| 116/116 [00:07<00:00, 15.12it/s]\n",
      "Calculating metrics: 100%|██████████| 6/6 [00:00<00:00, 16.76it/s]"
     ]
    },
    {
     "name": "stdout",
     "output_type": "stream",
     "text": [
      "Mean Recall@N:\n",
      "[0.23177032 0.34315164 0.41626786 0.4734413  0.52240936 0.56329711\n",
      " 0.59902643 0.62826287 0.6507403  0.67727994 0.69920482 0.71537578\n",
      " 0.73132439 0.74755019 0.76219715 0.77736069 0.78815895 0.79870886\n",
      " 0.80739242 0.81737112 0.82924045 0.83626184 0.84220301 0.84978889\n",
      " 0.85870772]\n",
      "Mean Recall@1% = 0.5632971114038875\n",
      "Mean top-1 distance = 0.029743590633048923\n",
      "\n",
      "\n",
      "=====> Epoch 51:\n",
      "\n",
      "=> Training:\n",
      "\n"
     ]
    },
    {
     "name": "stderr",
     "output_type": "stream",
     "text": [
      "\n",
      "train:  99%|█████████▉| 90/91 [00:06<00:00, 14.81it/s]"
     ]
    },
    {
     "name": "stdout",
     "output_type": "stream",
     "text": [
      "\n",
      "train_rate_non_zero = 1.0\n",
      "\n",
      "=> Validating:\n",
      "\n"
     ]
    },
    {
     "name": "stderr",
     "output_type": "stream",
     "text": [
      "\n",
      "val: 100%|██████████| 33/33 [00:02<00:00, 13.21it/s]\n"
     ]
    },
    {
     "name": "stdout",
     "output_type": "stream",
     "text": [
      "\n",
      "val_rate_non_zero = 1.0\n",
      "\n",
      "=> Testing:\n",
      "\n"
     ]
    },
    {
     "name": "stderr",
     "output_type": "stream",
     "text": [
      "Calculating test set descriptors: 100%|██████████| 116/116 [00:07<00:00, 15.77it/s]\n",
      "Calculating metrics: 100%|██████████| 6/6 [00:00<00:00, 16.59it/s]"
     ]
    },
    {
     "name": "stdout",
     "output_type": "stream",
     "text": [
      "Mean Recall@N:\n",
      "[0.23285058 0.34614392 0.42033989 0.47668639 0.52540378 0.56737447\n",
      " 0.59690164 0.62719343 0.65210414 0.67483701 0.69676363 0.71563235\n",
      " 0.73403966 0.749448   0.76220207 0.77626817 0.78763942 0.79982382\n",
      " 0.80849977 0.81766441 0.82737432 0.83440097 0.84138652 0.85003639\n",
      " 0.85872339]\n",
      "Mean Recall@1% = 0.5673744720980105\n",
      "Mean top-1 distance = 0.02970986310660038\n",
      "Recall@1 improved!\n",
      "\n",
      "\n",
      "=====> Epoch 52:\n",
      "\n",
      "=> Training:\n",
      "\n"
     ]
    },
    {
     "name": "stderr",
     "output_type": "stream",
     "text": [
      "\n",
      "train: 100%|██████████| 90/90 [00:06<00:00, 14.02it/s]"
     ]
    },
    {
     "name": "stdout",
     "output_type": "stream",
     "text": [
      "\n",
      "train_rate_non_zero = 1.0\n",
      "\n",
      "=> Validating:\n",
      "\n"
     ]
    },
    {
     "name": "stderr",
     "output_type": "stream",
     "text": [
      "\n",
      "val: 100%|██████████| 33/33 [00:02<00:00, 15.15it/s]\n"
     ]
    },
    {
     "name": "stdout",
     "output_type": "stream",
     "text": [
      "\n",
      "val_rate_non_zero = 1.0\n",
      "\n",
      "=> Testing:\n",
      "\n"
     ]
    },
    {
     "name": "stderr",
     "output_type": "stream",
     "text": [
      "Calculating test set descriptors: 100%|██████████| 116/116 [00:07<00:00, 14.78it/s]\n",
      "Calculating metrics: 100%|██████████| 6/6 [00:00<00:00, 16.28it/s]"
     ]
    },
    {
     "name": "stdout",
     "output_type": "stream",
     "text": [
      "Mean Recall@N:\n",
      "[0.23502177 0.34534526 0.42116214 0.48127394 0.52486281 0.56655816\n",
      " 0.602015   0.63017128 0.65398657 0.67536058 0.69647445 0.71674231\n",
      " 0.7359321  0.74946333 0.76274848 0.7762668  0.78980155 0.80173243\n",
      " 0.81012212 0.82036025 0.82738708 0.8341174  0.83950875 0.84895855\n",
      " 0.85923749]\n",
      "Mean Recall@1% = 0.5665581583360796\n",
      "Mean top-1 distance = 0.0296901259983777\n",
      "Recall@1 improved!\n",
      "\n",
      "\n",
      "=====> Epoch 53:\n",
      "\n",
      "=> Training:\n",
      "\n"
     ]
    },
    {
     "name": "stderr",
     "output_type": "stream",
     "text": [
      "\n",
      "train: 100%|██████████| 90/90 [00:06<00:00, 14.24it/s]"
     ]
    },
    {
     "name": "stdout",
     "output_type": "stream",
     "text": [
      "\n",
      "train_rate_non_zero = 1.0\n",
      "\n",
      "=> Validating:\n",
      "\n"
     ]
    },
    {
     "name": "stderr",
     "output_type": "stream",
     "text": [
      "\n",
      "val: 100%|██████████| 33/33 [00:02<00:00, 13.02it/s]\n"
     ]
    },
    {
     "name": "stdout",
     "output_type": "stream",
     "text": [
      "\n",
      "val_rate_non_zero = 1.0\n",
      "\n",
      "=> Testing:\n",
      "\n"
     ]
    },
    {
     "name": "stderr",
     "output_type": "stream",
     "text": [
      "Calculating test set descriptors: 100%|██████████| 116/116 [00:07<00:00, 15.16it/s]\n",
      "Calculating metrics: 100%|██████████| 6/6 [00:00<00:00, 16.62it/s]"
     ]
    },
    {
     "name": "stdout",
     "output_type": "stream",
     "text": [
      "Mean Recall@N:\n",
      "[0.23583455 0.34454716 0.42522762 0.48425697 0.52731075 0.56681014\n",
      " 0.60364246 0.62990135 0.65367426 0.67561631 0.69483784 0.71674256\n",
      " 0.73675551 0.75134598 0.76460613 0.77868415 0.79116927 0.80252003\n",
      " 0.81169772 0.82034017 0.82871898 0.83493701 0.8425002  0.84951808\n",
      " 0.85977965]\n",
      "Mean Recall@1% = 0.5668101357974792\n",
      "Mean top-1 distance = 0.02965531717622183\n",
      "Recall@1 improved!\n",
      "\n",
      "\n",
      "=====> Epoch 54:\n",
      "\n",
      "=> Training:\n",
      "\n"
     ]
    },
    {
     "name": "stderr",
     "output_type": "stream",
     "text": [
      "\n",
      "train: 91it [00:06, 14.97it/s]                        "
     ]
    },
    {
     "name": "stdout",
     "output_type": "stream",
     "text": [
      "\n",
      "train_rate_non_zero = 1.0\n",
      "\n",
      "=> Validating:\n",
      "\n"
     ]
    },
    {
     "name": "stderr",
     "output_type": "stream",
     "text": [
      "\n",
      "val: 34it [00:02, 14.41it/s]                        \n"
     ]
    },
    {
     "name": "stdout",
     "output_type": "stream",
     "text": [
      "\n",
      "val_rate_non_zero = 1.0\n",
      "\n",
      "=> Testing:\n",
      "\n"
     ]
    },
    {
     "name": "stderr",
     "output_type": "stream",
     "text": [
      "Calculating test set descriptors: 100%|██████████| 116/116 [00:06<00:00, 18.62it/s]\n",
      "Calculating metrics: 100%|██████████| 6/6 [00:00<00:00, 16.70it/s]"
     ]
    },
    {
     "name": "stdout",
     "output_type": "stream",
     "text": [
      "Mean Recall@N:\n",
      "[0.23773563 0.3442845  0.42846682 0.48535786 0.52784581 0.57113552\n",
      " 0.60714191 0.63231699 0.65260897 0.67724914 0.69971741 0.72079585\n",
      " 0.73756418 0.75191867 0.76541674 0.77790803 0.7916959  0.80223997\n",
      " 0.81385856 0.82034874 0.83061443 0.83764648 0.84520485 0.85006448\n",
      " 0.85844704]\n",
      "Mean Recall@1% = 0.5711355161144396\n",
      "Mean top-1 distance = 0.029620718094798052\n",
      "Recall@1 improved!\n",
      "\n",
      "\n",
      "=====> Epoch 55:\n",
      "\n",
      "=> Training:\n",
      "\n"
     ]
    },
    {
     "name": "stderr",
     "output_type": "stream",
     "text": [
      "\n",
      "train:  99%|█████████▉| 90/91 [00:05<00:00, 15.07it/s]"
     ]
    },
    {
     "name": "stdout",
     "output_type": "stream",
     "text": [
      "\n",
      "train_rate_non_zero = 1.0\n",
      "\n",
      "=> Validating:\n",
      "\n"
     ]
    },
    {
     "name": "stderr",
     "output_type": "stream",
     "text": [
      "\n",
      "val:  97%|█████████▋| 33/34 [00:01<00:00, 17.36it/s]\n"
     ]
    },
    {
     "name": "stdout",
     "output_type": "stream",
     "text": [
      "\n",
      "val_rate_non_zero = 1.0\n",
      "\n",
      "=> Testing:\n",
      "\n"
     ]
    },
    {
     "name": "stderr",
     "output_type": "stream",
     "text": [
      "Calculating test set descriptors: 100%|██████████| 116/116 [00:06<00:00, 18.38it/s]\n",
      "Calculating metrics: 100%|██████████| 6/6 [00:00<00:00, 16.63it/s]"
     ]
    },
    {
     "name": "stdout",
     "output_type": "stream",
     "text": [
      "Mean Recall@N:\n",
      "[0.23854225 0.34534584 0.42739029 0.48532201 0.52704947 0.57060485\n",
      " 0.6049755  0.63015664 0.65371414 0.67644071 0.70081514 0.72244572\n",
      " 0.739198   0.75410624 0.76814154 0.78221745 0.79357841 0.80331681\n",
      " 0.8146873  0.82197437 0.8295413  0.83682288 0.84630382 0.85277892\n",
      " 0.85954009]\n",
      "Mean Recall@1% = 0.5706048478582607\n",
      "Mean top-1 distance = 0.029601160503902324\n",
      "Recall@1 improved!\n",
      "\n",
      "\n",
      "=====> Epoch 56:\n",
      "\n",
      "=> Training:\n",
      "\n"
     ]
    },
    {
     "name": "stderr",
     "output_type": "stream",
     "text": [
      "\n",
      "train: 100%|██████████| 90/90 [00:05<00:00, 16.44it/s]"
     ]
    },
    {
     "name": "stdout",
     "output_type": "stream",
     "text": [
      "\n",
      "train_rate_non_zero = 1.0\n",
      "\n",
      "=> Validating:\n",
      "\n"
     ]
    },
    {
     "name": "stderr",
     "output_type": "stream",
     "text": [
      "\n",
      "val: 100%|██████████| 33/33 [00:02<00:00, 13.80it/s]\n"
     ]
    },
    {
     "name": "stdout",
     "output_type": "stream",
     "text": [
      "\n",
      "val_rate_non_zero = 1.0\n",
      "\n",
      "=> Testing:\n",
      "\n"
     ]
    },
    {
     "name": "stderr",
     "output_type": "stream",
     "text": [
      "Calculating test set descriptors: 100%|██████████| 116/116 [00:07<00:00, 15.47it/s]\n",
      "Calculating metrics: 100%|██████████| 6/6 [00:00<00:00, 16.70it/s]"
     ]
    },
    {
     "name": "stdout",
     "output_type": "stream",
     "text": [
      "Mean Recall@N:\n",
      "[0.23907408 0.34917567 0.4271219  0.48669345 0.52920597 0.57439444\n",
      " 0.60420551 0.63257694 0.65639668 0.67725597 0.6989201  0.72188381\n",
      " 0.73890874 0.75435364 0.76922691 0.78274664 0.79385882 0.80387304\n",
      " 0.81521924 0.82385191 0.83302793 0.8403392  0.8479265  0.8536003\n",
      " 0.86061968]\n",
      "Mean Recall@1% = 0.5743944402266373\n",
      "Mean top-1 distance = 0.029565921338152324\n",
      "Recall@1 improved!\n",
      "\n",
      "\n",
      "=====> Epoch 57:\n",
      "\n",
      "=> Training:\n",
      "\n"
     ]
    },
    {
     "name": "stderr",
     "output_type": "stream",
     "text": [
      "\n",
      "train: 91it [00:05, 15.31it/s]                        "
     ]
    },
    {
     "name": "stdout",
     "output_type": "stream",
     "text": [
      "\n",
      "train_rate_non_zero = 1.0\n",
      "\n",
      "=> Validating:\n",
      "\n"
     ]
    },
    {
     "name": "stderr",
     "output_type": "stream",
     "text": [
      "\n",
      "val: 100%|██████████| 33/33 [00:02<00:00, 14.68it/s]\n"
     ]
    },
    {
     "name": "stdout",
     "output_type": "stream",
     "text": [
      "\n",
      "val_rate_non_zero = 1.0\n",
      "\n",
      "=> Testing:\n",
      "\n"
     ]
    },
    {
     "name": "stderr",
     "output_type": "stream",
     "text": [
      "Calculating test set descriptors: 100%|██████████| 116/116 [00:07<00:00, 14.95it/s]\n",
      "Calculating metrics: 100%|██████████| 6/6 [00:00<00:00, 16.59it/s]"
     ]
    },
    {
     "name": "stdout",
     "output_type": "stream",
     "text": [
      "Mean Recall@N:\n",
      "[0.237715   0.34565283 0.42630379 0.48586058 0.52814561 0.57032842\n",
      " 0.60392557 0.62990577 0.657207   0.68051161 0.70052426 0.72188555\n",
      " 0.73920711 0.75464468 0.76922819 0.78489216 0.79680858 0.80685042\n",
      " 0.81549811 0.82358748 0.8333003  0.84113843 0.84765845 0.85306085\n",
      " 0.86197996]\n",
      "Mean Recall@1% = 0.5703284238731852\n",
      "Mean top-1 distance = 0.02952903357881292\n",
      "\n",
      "\n",
      "=====> Epoch 58:\n",
      "\n",
      "=> Training:\n",
      "\n"
     ]
    },
    {
     "name": "stderr",
     "output_type": "stream",
     "text": [
      "\n",
      "train: 100%|██████████| 91/91 [00:05<00:00, 15.30it/s]"
     ]
    },
    {
     "name": "stdout",
     "output_type": "stream",
     "text": [
      "\n",
      "train_rate_non_zero = 1.0\n",
      "\n",
      "=> Validating:\n",
      "\n"
     ]
    },
    {
     "name": "stderr",
     "output_type": "stream",
     "text": [
      "\n",
      "val: 100%|██████████| 33/33 [00:02<00:00, 13.27it/s]\n"
     ]
    },
    {
     "name": "stdout",
     "output_type": "stream",
     "text": [
      "\n",
      "val_rate_non_zero = 1.0\n",
      "\n",
      "=> Testing:\n",
      "\n"
     ]
    },
    {
     "name": "stderr",
     "output_type": "stream",
     "text": [
      "Calculating test set descriptors: 100%|██████████| 116/116 [00:06<00:00, 17.03it/s]\n",
      "Calculating metrics: 100%|██████████| 6/6 [00:00<00:00, 16.35it/s]"
     ]
    },
    {
     "name": "stdout",
     "output_type": "stream",
     "text": [
      "Mean Recall@N:\n",
      "[0.23797664 0.34864242 0.42603172 0.48583774 0.53056797 0.57170121\n",
      " 0.60091919 0.63152363 0.65885146 0.68212572 0.70459231 0.72213197\n",
      " 0.73811832 0.75356517 0.76980018 0.78464808 0.79737177 0.80686029\n",
      " 0.81682834 0.82628586 0.83465717 0.84060806 0.84847313 0.85334248\n",
      " 0.86306203]\n",
      "Mean Recall@1% = 0.5717012110562356\n",
      "Mean top-1 distance = 0.02949193912754089\n",
      "\n",
      "\n",
      "=====> Epoch 59:\n",
      "\n",
      "=> Training:\n",
      "\n"
     ]
    },
    {
     "name": "stderr",
     "output_type": "stream",
     "text": [
      "\n",
      "train:  99%|█████████▉| 90/91 [00:04<00:00, 19.21it/s]"
     ]
    },
    {
     "name": "stdout",
     "output_type": "stream",
     "text": [
      "\n",
      "train_rate_non_zero = 1.0\n",
      "\n",
      "=> Validating:\n",
      "\n"
     ]
    },
    {
     "name": "stderr",
     "output_type": "stream",
     "text": [
      "\n",
      "val: 100%|██████████| 33/33 [00:02<00:00, 13.97it/s]\n"
     ]
    },
    {
     "name": "stdout",
     "output_type": "stream",
     "text": [
      "\n",
      "val_rate_non_zero = 1.0\n",
      "\n",
      "=> Testing:\n",
      "\n"
     ]
    },
    {
     "name": "stderr",
     "output_type": "stream",
     "text": [
      "Calculating test set descriptors: 100%|██████████| 116/116 [00:07<00:00, 15.73it/s]\n",
      "Calculating metrics: 100%|██████████| 6/6 [00:00<00:00, 16.78it/s]"
     ]
    },
    {
     "name": "stdout",
     "output_type": "stream",
     "text": [
      "Mean Recall@N:\n",
      "[0.23639244 0.3502646  0.42604835 0.48612236 0.53031013 0.57335245\n",
      " 0.60389939 0.6306989  0.65939301 0.68347707 0.70591199 0.72241619\n",
      " 0.7389613  0.75437848 0.77196686 0.78763876 0.79900239 0.80847909\n",
      " 0.81925432 0.82601487 0.83465771 0.84168092 0.84846664 0.85628458\n",
      " 0.86361246]\n",
      "Mean Recall@1% = 0.5733524474993978\n",
      "Mean top-1 distance = 0.029460444005585257\n",
      "\n",
      "\n",
      "=====> Epoch 60:\n",
      "\n",
      "=> Training:\n",
      "\n"
     ]
    },
    {
     "name": "stderr",
     "output_type": "stream",
     "text": [
      "\n",
      "train: 100%|██████████| 90/90 [00:05<00:00, 17.91it/s]"
     ]
    },
    {
     "name": "stdout",
     "output_type": "stream",
     "text": [
      "\n",
      "train_rate_non_zero = 1.0\n",
      "\n",
      "=> Validating:\n",
      "\n"
     ]
    },
    {
     "name": "stderr",
     "output_type": "stream",
     "text": [
      "\n",
      "val: 100%|██████████| 33/33 [00:02<00:00, 12.21it/s]\n"
     ]
    },
    {
     "name": "stdout",
     "output_type": "stream",
     "text": [
      "\n",
      "val_rate_non_zero = 1.0\n",
      "\n",
      "=> Testing:\n",
      "\n"
     ]
    },
    {
     "name": "stderr",
     "output_type": "stream",
     "text": [
      "Calculating test set descriptors: 100%|██████████| 116/116 [00:07<00:00, 15.73it/s]\n",
      "Calculating metrics: 100%|██████████| 6/6 [00:00<00:00, 16.58it/s]"
     ]
    },
    {
     "name": "stdout",
     "output_type": "stream",
     "text": [
      "Mean Recall@N:\n",
      "[0.23771253 0.35023096 0.42548555 0.48398431 0.52896547 0.57143206\n",
      " 0.60441905 0.63230524 0.65640937 0.68536773 0.70754954 0.72404526\n",
      " 0.73975164 0.75465432 0.77141978 0.78545384 0.80008552 0.80981836\n",
      " 0.82034282 0.82819541 0.83548352 0.84088665 0.84900046 0.85549318\n",
      " 0.8665562 ]\n",
      "Mean Recall@1% = 0.5714320572158791\n",
      "Mean top-1 distance = 0.02942885007110731\n"
     ]
    },
    {
     "name": "stderr",
     "output_type": "stream",
     "text": [
      "\n"
     ]
    }
   ],
   "source": [
    "model_config = OmegaConf.load(\"configs/models/text_model.yaml\")\n",
    "model = instantiate(model_config)\n",
    "\n",
    "loss_cfg = OmegaConf.load(\"configs/losses/triplet_margin_text.yaml\")\n",
    "loss_fn = instantiate(loss_cfg)\n",
    "\n",
    "dataset_cfg = OmegaConf.load(\"configs/datasets/phystech_campus_text.yaml\")\n",
    "\n",
    "dataloaders = make_dataloaders(\n",
    "    dataset_cfg=dataset_cfg.dataset,\n",
    "    batch_sampler_cfg=dataset_cfg.sampler,\n",
    "    num_workers=dataset_cfg.num_workers,\n",
    ")\n",
    "\n",
    "params_list = []\n",
    "if model.image_module is not None and IMAGE_LR is not None:\n",
    "    params_list.append({\"params\": model.image_module.parameters(), \"lr\": IMAGE_LR})\n",
    "if model.cloud_module is not None and CLOUD_LR is not None:\n",
    "    params_list.append({\"params\": model.cloud_module.parameters(), \"lr\": CLOUD_LR})\n",
    "if model.fusion_module is not None and FUSION_LR is not None:\n",
    "    params_list.append({\"params\": model.fusion_module.parameters(), \"lr\": FUSION_LR})\n",
    "if model.text_module is not None and TEXT_LR is not None:\n",
    "    params_list.append({\"params\": model.text_module.parameters(), \"lr\": IMAGE_LR})\n",
    "optimizer = Adam(params_list, weight_decay=WEIGHT_DECAY)\n",
    "scheduler = MultiStepLR(optimizer, milestones=SCHEDULER_STEPS, gamma=SCHEDULER_GAMMA)\n",
    "\n",
    "if not CHECKPOINTS_DIR.exists():\n",
    "    CHECKPOINTS_DIR.mkdir(parents=True)\n",
    "\n",
    "model = model.to(DEVICE)\n",
    "\n",
    "# ==========> TRAIN LOOP:\n",
    "\n",
    "best_recall_at_1 = 0.0\n",
    "\n",
    "for epoch in range(EPOCHS):\n",
    "    print(f\"\\n\\n=====> Epoch {epoch+1}:\")\n",
    "    # TODO: resolve mypy typing here\n",
    "    train_batch_size = dataloaders[\"train\"].batch_sampler.batch_size  # type: ignore\n",
    "\n",
    "    print(\"\\n=> Training:\\n\")\n",
    "\n",
    "    train_stats, train_rate_non_zero = epoch_loop(\n",
    "        dataloader=dataloaders[\"train\"],\n",
    "        model=model,\n",
    "        loss_fn=loss_fn,\n",
    "        optimizer=optimizer,\n",
    "        scheduler=scheduler,\n",
    "        phase=\"train\",\n",
    "        device=DEVICE,\n",
    "    )\n",
    "\n",
    "    print(f\"\\ntrain_rate_non_zero = {train_rate_non_zero}\")\n",
    "\n",
    "    if BATCH_EXPANSION_TH is not None:\n",
    "        if BATCH_EXPANSION_TH == 1.0:\n",
    "            print(\"Batch expansion rate is set to every epoch. Increasing batch size.\")\n",
    "            # TODO: resolve mypy typing here\n",
    "            dataloaders[\"train\"].batch_sampler.expand_batch()  # type: ignore\n",
    "        elif train_rate_non_zero is None:\n",
    "            print(\n",
    "                \"\\nWARNING: 'BATCH_EXPANSION_TH' was set, but 'train_rate_non_zero' is None. \",\n",
    "                \"The batch size was not expanded.\",\n",
    "            )\n",
    "        elif train_rate_non_zero < BATCH_EXPANSION_TH:\n",
    "            print(\n",
    "                \"Average non-zero triplet ratio is less than threshold: \",\n",
    "                f\"{train_rate_non_zero} < {BATCH_EXPANSION_TH}\",\n",
    "            )\n",
    "            # TODO: resolve mypy typing here\n",
    "            dataloaders[\"train\"].batch_sampler.expand_batch()  # type: ignore\n",
    "\n",
    "    print(\"\\n=> Validating:\\n\")\n",
    "\n",
    "    val_stats, val_rate_non_zero = epoch_loop(\n",
    "        dataloader=dataloaders[\"val\"],\n",
    "        model=model,\n",
    "        loss_fn=loss_fn,\n",
    "        optimizer=optimizer,\n",
    "        phase=\"val\",\n",
    "        device=DEVICE,\n",
    "    )\n",
    "\n",
    "    print(f\"\\nval_rate_non_zero = {val_rate_non_zero}\")\n",
    "\n",
    "    print(\"\\n=> Testing:\\n\")\n",
    "\n",
    "    recall_at_n, recall_at_one_percent, mean_top1_distance = test(\n",
    "        model=model,\n",
    "        descriptor_key=\"text\",\n",
    "        dataloader=dataloaders[\"test\"],\n",
    "        device=DEVICE,\n",
    "    )\n",
    "\n",
    "    stats_dict = {}\n",
    "    stats_dict[\"test\"] = {\n",
    "        \"mean_top1_distance\": mean_top1_distance,\n",
    "        \"recall_at_1%\": recall_at_one_percent,\n",
    "        \"recall_at_1\": recall_at_n[0],\n",
    "        \"recall_at_3\": recall_at_n[2],\n",
    "        \"recall_at_5\": recall_at_n[4],\n",
    "        \"recall_at_10\": recall_at_n[9],\n",
    "    }\n",
    "    stats_dict[\"train\"] = train_stats\n",
    "    stats_dict[\"train\"][\"batch_size\"] = train_batch_size\n",
    "    stats_dict[\"val\"] = val_stats\n",
    "\n",
    "    # saving checkpoints\n",
    "    checkpoint_dict = {\n",
    "        \"epoch\": epoch + 1,\n",
    "        \"stats_dict\": stats_dict,\n",
    "        \"model_state_dict\": model.state_dict(),\n",
    "        \"optimizer_state_dict\": optimizer.state_dict(),\n",
    "    }\n",
    "    torch.save(checkpoint_dict, CHECKPOINTS_DIR / f\"epoch_{epoch+1}.pth\")\n",
    "    if recall_at_n[0] > best_recall_at_1:\n",
    "        print(\"Recall@1 improved!\")\n",
    "        torch.save(checkpoint_dict, CHECKPOINTS_DIR / \"best.pth\")\n",
    "        best_recall_at_1 = recall_at_n[0]"
   ]
  },
  {
   "cell_type": "code",
   "execution_count": 7,
   "metadata": {},
   "outputs": [],
   "source": [
    "from torch.utils.data import DataLoader\n",
    "from opr.datasets.dataloader_factory import make_collate_fn\n",
    "\n",
    "real_val_dataset = instantiate(dataset_cfg.dataset, subset=\"val\")\n",
    "\n",
    "num_workers = 4\n",
    "batch_size = 16\n",
    "\n",
    "real_test_dataloader = DataLoader(\n",
    "    dataset=real_val_dataset,\n",
    "    batch_size=batch_size,\n",
    "    collate_fn=make_collate_fn(real_val_dataset, batch_split_size=None),\n",
    "    num_workers=num_workers,\n",
    "    pin_memory=False,\n",
    "    drop_last=False,\n",
    ")"
   ]
  },
  {
   "cell_type": "code",
   "execution_count": 8,
   "metadata": {},
   "outputs": [
    {
     "name": "stderr",
     "output_type": "stream",
     "text": [
      "Calculating test set descriptors: 100%|██████████| 31/31 [00:02<00:00, 14.68it/s]\n",
      "Calculating metrics: 100%|██████████| 6/6 [00:00<00:00, 138.52it/s]"
     ]
    },
    {
     "name": "stdout",
     "output_type": "stream",
     "text": [
      "Mean Recall@N:\n",
      "[0.18526102 0.31069173 0.40750433 0.48487334 0.54178005 0.59866342\n",
      " 0.64616159 0.68246205 0.72151508 0.75011433 0.77330197 0.796352\n",
      " 0.81429287 0.82703898 0.84407971 0.85914799 0.87407275 0.88735718\n",
      " 0.89854956 0.90782049 0.91186266 0.9190182  0.92750961 0.93862706\n",
      " 0.94358695]\n",
      "Mean Recall@1% = 0.31069173012814627\n",
      "Mean top-1 distance = 0.030758283096002065\n"
     ]
    },
    {
     "name": "stderr",
     "output_type": "stream",
     "text": [
      "\n"
     ]
    }
   ],
   "source": [
    "real_recall_at_n, real_recall_at_one_percent, real_mean_top1_distance = test(\n",
    "    model=model,\n",
    "    descriptor_key=\"text\",\n",
    "    dataloader=real_test_dataloader,\n",
    "    device=DEVICE,\n",
    "    dist_thresh=25.0\n",
    ")"
   ]
  },
  {
   "cell_type": "code",
   "execution_count": 11,
   "metadata": {},
   "outputs": [
    {
     "name": "stderr",
     "output_type": "stream",
     "text": [
      "Calculating test set descriptors: 100%|██████████| 31/31 [00:01<00:00, 21.50it/s]\n",
      "Calculating metrics: 100%|██████████| 6/6 [00:00<00:00, 148.63it/s]"
     ]
    },
    {
     "name": "stdout",
     "output_type": "stream",
     "text": [
      "Mean Recall@N:\n",
      "[0.05004573 0.08028988 0.10914735 0.1426537  0.16656167 0.1883161\n",
      " 0.20587251 0.22635698 0.24919296 0.27811522 0.29664631 0.31208683\n",
      " 0.33288934 0.34660125 0.36433831 0.38202838 0.39425828 0.41383285\n",
      " 0.42958689 0.43366448 0.44739285 0.45882668 0.4702329  0.48141552\n",
      " 0.4957535 ]\n",
      "Mean Recall@1% = 0.08028988419741347\n",
      "Mean top-1 distance = 0.02984082018928332\n"
     ]
    },
    {
     "name": "stderr",
     "output_type": "stream",
     "text": [
      "\n"
     ]
    }
   ],
   "source": [
    "real_recall_at_n, real_recall_at_one_percent, real_mean_top1_distance = test(\n",
    "    model=model,\n",
    "    descriptor_key=\"text\",\n",
    "    dataloader=real_test_dataloader,\n",
    "    device=DEVICE,\n",
    "    dist_thresh=5.0\n",
    ")"
   ]
  },
  {
   "cell_type": "code",
   "execution_count": 9,
   "metadata": {},
   "outputs": [
    {
     "name": "stderr",
     "output_type": "stream",
     "text": [
      "Calculating test set descriptors: 100%|██████████| 116/116 [00:05<00:00, 22.07it/s]\n",
      "Calculating metrics: 100%|██████████| 6/6 [00:00<00:00, 16.87it/s]"
     ]
    },
    {
     "name": "stdout",
     "output_type": "stream",
     "text": [
      "Mean Recall@N:\n",
      "[0.23771253 0.35023096 0.42548555 0.48398431 0.52896547 0.57143206\n",
      " 0.60441905 0.63230524 0.65640937 0.68536773 0.70754954 0.72404526\n",
      " 0.73975164 0.75465432 0.77141978 0.78545384 0.80008552 0.80981836\n",
      " 0.82034282 0.82819541 0.83548352 0.84088665 0.84900046 0.85549318\n",
      " 0.8665562 ]\n",
      "Mean Recall@1% = 0.5714320572158791\n",
      "Mean top-1 distance = 0.02942885007110731\n"
     ]
    },
    {
     "name": "stderr",
     "output_type": "stream",
     "text": [
      "\n"
     ]
    }
   ],
   "source": [
    "recall_at_n, recall_at_one_percent, mean_top1_distance = test(\n",
    "    model=model,\n",
    "    descriptor_key=\"text\",\n",
    "    dataloader=dataloaders[\"test\"],\n",
    "    device=DEVICE,\n",
    ")"
   ]
  },
  {
   "cell_type": "code",
   "execution_count": 10,
   "metadata": {},
   "outputs": [
    {
     "name": "stderr",
     "output_type": "stream",
     "text": [
      "Calculating test set descriptors: 100%|██████████| 116/116 [00:06<00:00, 18.43it/s]\n",
      "Calculating metrics: 100%|██████████| 6/6 [00:00<00:00, 16.42it/s]"
     ]
    },
    {
     "name": "stdout",
     "output_type": "stream",
     "text": [
      "Mean Recall@N:\n",
      "[0.11585745 0.17756552 0.22503744 0.25630179 0.28478687 0.31294511\n",
      " 0.33777806 0.35835067 0.3781953  0.39319692 0.40845309 0.42487215\n",
      " 0.43689295 0.44945015 0.46307803 0.47667892 0.48783226 0.5001431\n",
      " 0.50902053 0.52183219 0.53129541 0.53883277 0.54832413 0.55783808\n",
      " 0.56642465]\n",
      "Mean Recall@1% = 0.3129451101029596\n",
      "Mean top-1 distance = 0.029024499735848076\n"
     ]
    },
    {
     "name": "stderr",
     "output_type": "stream",
     "text": [
      "\n"
     ]
    }
   ],
   "source": [
    "recall_at_n_5, recall_at_one_percent_5, mean_top1_distance_5 = test(\n",
    "    model=model,\n",
    "    descriptor_key=\"text\",\n",
    "    dataloader=dataloaders[\"test\"],\n",
    "    device=DEVICE,\n",
    "    dist_thresh=5.0\n",
    ")"
   ]
  },
  {
   "cell_type": "code",
   "execution_count": null,
   "metadata": {},
   "outputs": [],
   "source": []
  }
 ],
 "metadata": {
  "kernelspec": {
   "display_name": "Python 3",
   "language": "python",
   "name": "python3"
  },
  "language_info": {
   "codemirror_mode": {
    "name": "ipython",
    "version": 3
   },
   "file_extension": ".py",
   "mimetype": "text/x-python",
   "name": "python",
   "nbconvert_exporter": "python",
   "pygments_lexer": "ipython3",
   "version": "3.8.10"
  },
  "orig_nbformat": 4,
  "vscode": {
   "interpreter": {
    "hash": "916dbcbb3f70747c44a77c7bcd40155683ae19c65e1c03b4aa3499c5328201f1"
   }
  }
 },
 "nbformat": 4,
 "nbformat_minor": 2
}
